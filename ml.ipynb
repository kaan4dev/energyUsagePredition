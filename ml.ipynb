{
 "cells": [
  {
   "cell_type": "markdown",
   "id": "bbc96f60",
   "metadata": {},
   "source": [
    "## Imports"
   ]
  },
  {
   "cell_type": "code",
   "execution_count": 8,
   "id": "cf8ec5b8",
   "metadata": {},
   "outputs": [],
   "source": [
    "import pandas as pd\n",
    "import seaborn as sns\n",
    "import matplotlib.pyplot as plt\n",
    "import numpy as np\n",
    "\n",
    "from sklearn.preprocessing import StandardScaler\n",
    "from sklearn.model_selection import train_test_split\n",
    "from sklearn.ensemble import RandomForestClassifier\n",
    "\n",
    "import warnings\n",
    "warnings.filterwarnings('ignore')"
   ]
  },
  {
   "cell_type": "markdown",
   "id": "76a66ddb",
   "metadata": {},
   "source": [
    "## Import Data"
   ]
  },
  {
   "cell_type": "code",
   "execution_count": 9,
   "id": "e690ec18",
   "metadata": {},
   "outputs": [],
   "source": [
    "df = pd.read_csv('Energy_and_Water_Data_Disclosure_for_Local_Law_84_2017__Data_for_Calendar_Year_2016_.csv')"
   ]
  },
  {
   "cell_type": "markdown",
   "id": "8c24fc53",
   "metadata": {},
   "source": [
    "## Understand The Data"
   ]
  },
  {
   "cell_type": "code",
   "execution_count": 10,
   "id": "03bebac8",
   "metadata": {},
   "outputs": [
    {
     "name": "stdout",
     "output_type": "stream",
     "text": [
      "16378\n",
      "262\n"
     ]
    }
   ],
   "source": [
    "print(df.shape[0])\n",
    "print(df.shape[1])"
   ]
  },
  {
   "cell_type": "code",
   "execution_count": 11,
   "id": "f1059e44",
   "metadata": {},
   "outputs": [
    {
     "data": {
      "text/plain": [
       "Property Id               0\n",
       "Property Name             0\n",
       "Parent Property Id        0\n",
       "Parent Property Name      0\n",
       "Year Ending               0\n",
       "                       ... \n",
       "Longitude               730\n",
       "Community Board         730\n",
       "Council District        730\n",
       "Census Tract            730\n",
       "NTA                     730\n",
       "Length: 262, dtype: int64"
      ]
     },
     "execution_count": 11,
     "metadata": {},
     "output_type": "execute_result"
    }
   ],
   "source": [
    "df.isnull().sum()"
   ]
  },
  {
   "cell_type": "code",
   "execution_count": 12,
   "id": "2bf814fc",
   "metadata": {},
   "outputs": [
    {
     "data": {
      "text/plain": [
       "Property Id               int64\n",
       "Property Name            object\n",
       "Parent Property Id       object\n",
       "Parent Property Name     object\n",
       "Year Ending              object\n",
       "                         ...   \n",
       "Longitude               float64\n",
       "Community Board         float64\n",
       "Council District        float64\n",
       "Census Tract            float64\n",
       "NTA                      object\n",
       "Length: 262, dtype: object"
      ]
     },
     "execution_count": 12,
     "metadata": {},
     "output_type": "execute_result"
    }
   ],
   "source": [
    "df.dtypes"
   ]
  },
  {
   "cell_type": "code",
   "execution_count": 13,
   "id": "f7187aed",
   "metadata": {},
   "outputs": [
    {
     "data": {
      "application/vnd.microsoft.datawrangler.viewer.v0+json": {
       "columns": [
        {
         "name": "index",
         "rawType": "object",
         "type": "string"
        },
        {
         "name": "Property Id",
         "rawType": "float64",
         "type": "float"
        },
        {
         "name": "Count of Buildings",
         "rawType": "float64",
         "type": "float"
        },
        {
         "name": "Year Built",
         "rawType": "float64",
         "type": "float"
        },
        {
         "name": "Number of Buildings",
         "rawType": "float64",
         "type": "float"
        },
        {
         "name": "Occupancy",
         "rawType": "float64",
         "type": "float"
        },
        {
         "name": "National Median ENERGY STAR Score",
         "rawType": "float64",
         "type": "float"
        },
        {
         "name": "Property GFA - Self-Reported (ft²)",
         "rawType": "float64",
         "type": "float"
        },
        {
         "name": "Latitude",
         "rawType": "float64",
         "type": "float"
        },
        {
         "name": "Longitude",
         "rawType": "float64",
         "type": "float"
        },
        {
         "name": "Community Board",
         "rawType": "float64",
         "type": "float"
        },
        {
         "name": "Council District",
         "rawType": "float64",
         "type": "float"
        },
        {
         "name": "Census Tract",
         "rawType": "float64",
         "type": "float"
        }
       ],
       "conversionMethod": "pd.DataFrame",
       "ref": "113de11c-190f-4162-a5db-dc5be7218887",
       "rows": [
        [
         "count",
         "16378.0",
         "197.0",
         "16378.0",
         "16378.0",
         "16378.0",
         "16378.0",
         "16378.0",
         "15648.0",
         "15648.0",
         "15648.0",
         "15648.0",
         "15648.0"
        ],
        [
         "mean",
         "3614538.9609842473",
         "12.730964467005077",
         "1950.2038710465258",
         "1.3531566735865186",
         "98.71748687263403",
         "50.0",
         "171861.83526682135",
         "40.74723231518405",
         "-73.9365413847776",
         "231.0116308793456",
         "18.5920245398773",
         "7656.710250511247"
        ],
        [
         "std",
         "1163489.8507835795",
         "13.076061067639952",
         "32.404250219495886",
         "4.146161366352807",
         "7.7566636413910945",
         "0.0",
         "412044.6003224776",
         "0.07589802268397357",
         "0.0669588161678925",
         "122.90690110322727",
         "15.014731448030703",
         "21410.078015992312"
        ],
        [
         "min",
         "7365.0",
         "1.0",
         "1000.0",
         "0.0",
         "0.0",
         "50.0",
         "0.0",
         "40.509037",
         "-74.244118",
         "101.0",
         "1.0",
         "1.0"
        ],
        [
         "25%",
         "2721265.0",
         "3.0",
         "1927.0",
         "1.0",
         "100.0",
         "50.0",
         "63700.0",
         "40.70495975",
         "-73.980492",
         "107.0",
         "5.0",
         "113.0"
        ],
        [
         "50%",
         "3292840.0",
         "9.0",
         "1948.0",
         "1.0",
         "100.0",
         "50.0",
         "92400.0",
         "40.750628",
         "-73.9522255",
         "207.0",
         "14.0",
         "249.0"
        ],
        [
         "75%",
         "4594752.25",
         "17.0",
         "1970.0",
         "1.0",
         "100.0",
         "50.0",
         "157460.75",
         "40.79882525",
         "-73.9011505",
         "314.0",
         "30.0",
         "809.0"
        ],
        [
         "max",
         "6215439.0",
         "61.0",
         "2019.0",
         "161.0",
         "100.0",
         "50.0",
         "27882654.0",
         "40.912869",
         "-73.700935",
         "503.0",
         "51.0",
         "157903.0"
        ]
       ],
       "shape": {
        "columns": 12,
        "rows": 8
       }
      },
      "text/html": [
       "<div>\n",
       "<style scoped>\n",
       "    .dataframe tbody tr th:only-of-type {\n",
       "        vertical-align: middle;\n",
       "    }\n",
       "\n",
       "    .dataframe tbody tr th {\n",
       "        vertical-align: top;\n",
       "    }\n",
       "\n",
       "    .dataframe thead th {\n",
       "        text-align: right;\n",
       "    }\n",
       "</style>\n",
       "<table border=\"1\" class=\"dataframe\">\n",
       "  <thead>\n",
       "    <tr style=\"text-align: right;\">\n",
       "      <th></th>\n",
       "      <th>Property Id</th>\n",
       "      <th>Count of Buildings</th>\n",
       "      <th>Year Built</th>\n",
       "      <th>Number of Buildings</th>\n",
       "      <th>Occupancy</th>\n",
       "      <th>National Median ENERGY STAR Score</th>\n",
       "      <th>Property GFA - Self-Reported (ft²)</th>\n",
       "      <th>Latitude</th>\n",
       "      <th>Longitude</th>\n",
       "      <th>Community Board</th>\n",
       "      <th>Council District</th>\n",
       "      <th>Census Tract</th>\n",
       "    </tr>\n",
       "  </thead>\n",
       "  <tbody>\n",
       "    <tr>\n",
       "      <th>count</th>\n",
       "      <td>1.637800e+04</td>\n",
       "      <td>197.000000</td>\n",
       "      <td>16378.000000</td>\n",
       "      <td>16378.000000</td>\n",
       "      <td>16378.000000</td>\n",
       "      <td>16378.0</td>\n",
       "      <td>1.637800e+04</td>\n",
       "      <td>15648.000000</td>\n",
       "      <td>15648.000000</td>\n",
       "      <td>15648.000000</td>\n",
       "      <td>15648.000000</td>\n",
       "      <td>15648.000000</td>\n",
       "    </tr>\n",
       "    <tr>\n",
       "      <th>mean</th>\n",
       "      <td>3.614539e+06</td>\n",
       "      <td>12.730964</td>\n",
       "      <td>1950.203871</td>\n",
       "      <td>1.353157</td>\n",
       "      <td>98.717487</td>\n",
       "      <td>50.0</td>\n",
       "      <td>1.718618e+05</td>\n",
       "      <td>40.747232</td>\n",
       "      <td>-73.936541</td>\n",
       "      <td>231.011631</td>\n",
       "      <td>18.592025</td>\n",
       "      <td>7656.710251</td>\n",
       "    </tr>\n",
       "    <tr>\n",
       "      <th>std</th>\n",
       "      <td>1.163490e+06</td>\n",
       "      <td>13.076061</td>\n",
       "      <td>32.404250</td>\n",
       "      <td>4.146161</td>\n",
       "      <td>7.756664</td>\n",
       "      <td>0.0</td>\n",
       "      <td>4.120446e+05</td>\n",
       "      <td>0.075898</td>\n",
       "      <td>0.066959</td>\n",
       "      <td>122.906901</td>\n",
       "      <td>15.014731</td>\n",
       "      <td>21410.078016</td>\n",
       "    </tr>\n",
       "    <tr>\n",
       "      <th>min</th>\n",
       "      <td>7.365000e+03</td>\n",
       "      <td>1.000000</td>\n",
       "      <td>1000.000000</td>\n",
       "      <td>0.000000</td>\n",
       "      <td>0.000000</td>\n",
       "      <td>50.0</td>\n",
       "      <td>0.000000e+00</td>\n",
       "      <td>40.509037</td>\n",
       "      <td>-74.244118</td>\n",
       "      <td>101.000000</td>\n",
       "      <td>1.000000</td>\n",
       "      <td>1.000000</td>\n",
       "    </tr>\n",
       "    <tr>\n",
       "      <th>25%</th>\n",
       "      <td>2.721265e+06</td>\n",
       "      <td>3.000000</td>\n",
       "      <td>1927.000000</td>\n",
       "      <td>1.000000</td>\n",
       "      <td>100.000000</td>\n",
       "      <td>50.0</td>\n",
       "      <td>6.370000e+04</td>\n",
       "      <td>40.704960</td>\n",
       "      <td>-73.980492</td>\n",
       "      <td>107.000000</td>\n",
       "      <td>5.000000</td>\n",
       "      <td>113.000000</td>\n",
       "    </tr>\n",
       "    <tr>\n",
       "      <th>50%</th>\n",
       "      <td>3.292840e+06</td>\n",
       "      <td>9.000000</td>\n",
       "      <td>1948.000000</td>\n",
       "      <td>1.000000</td>\n",
       "      <td>100.000000</td>\n",
       "      <td>50.0</td>\n",
       "      <td>9.240000e+04</td>\n",
       "      <td>40.750628</td>\n",
       "      <td>-73.952225</td>\n",
       "      <td>207.000000</td>\n",
       "      <td>14.000000</td>\n",
       "      <td>249.000000</td>\n",
       "    </tr>\n",
       "    <tr>\n",
       "      <th>75%</th>\n",
       "      <td>4.594752e+06</td>\n",
       "      <td>17.000000</td>\n",
       "      <td>1970.000000</td>\n",
       "      <td>1.000000</td>\n",
       "      <td>100.000000</td>\n",
       "      <td>50.0</td>\n",
       "      <td>1.574608e+05</td>\n",
       "      <td>40.798825</td>\n",
       "      <td>-73.901150</td>\n",
       "      <td>314.000000</td>\n",
       "      <td>30.000000</td>\n",
       "      <td>809.000000</td>\n",
       "    </tr>\n",
       "    <tr>\n",
       "      <th>max</th>\n",
       "      <td>6.215439e+06</td>\n",
       "      <td>61.000000</td>\n",
       "      <td>2019.000000</td>\n",
       "      <td>161.000000</td>\n",
       "      <td>100.000000</td>\n",
       "      <td>50.0</td>\n",
       "      <td>2.788265e+07</td>\n",
       "      <td>40.912869</td>\n",
       "      <td>-73.700935</td>\n",
       "      <td>503.000000</td>\n",
       "      <td>51.000000</td>\n",
       "      <td>157903.000000</td>\n",
       "    </tr>\n",
       "  </tbody>\n",
       "</table>\n",
       "</div>"
      ],
      "text/plain": [
       "        Property Id  Count of Buildings    Year Built  Number of Buildings  \\\n",
       "count  1.637800e+04          197.000000  16378.000000         16378.000000   \n",
       "mean   3.614539e+06           12.730964   1950.203871             1.353157   \n",
       "std    1.163490e+06           13.076061     32.404250             4.146161   \n",
       "min    7.365000e+03            1.000000   1000.000000             0.000000   \n",
       "25%    2.721265e+06            3.000000   1927.000000             1.000000   \n",
       "50%    3.292840e+06            9.000000   1948.000000             1.000000   \n",
       "75%    4.594752e+06           17.000000   1970.000000             1.000000   \n",
       "max    6.215439e+06           61.000000   2019.000000           161.000000   \n",
       "\n",
       "          Occupancy  National Median ENERGY STAR Score  \\\n",
       "count  16378.000000                            16378.0   \n",
       "mean      98.717487                               50.0   \n",
       "std        7.756664                                0.0   \n",
       "min        0.000000                               50.0   \n",
       "25%      100.000000                               50.0   \n",
       "50%      100.000000                               50.0   \n",
       "75%      100.000000                               50.0   \n",
       "max      100.000000                               50.0   \n",
       "\n",
       "       Property GFA - Self-Reported (ft²)      Latitude     Longitude  \\\n",
       "count                        1.637800e+04  15648.000000  15648.000000   \n",
       "mean                         1.718618e+05     40.747232    -73.936541   \n",
       "std                          4.120446e+05      0.075898      0.066959   \n",
       "min                          0.000000e+00     40.509037    -74.244118   \n",
       "25%                          6.370000e+04     40.704960    -73.980492   \n",
       "50%                          9.240000e+04     40.750628    -73.952225   \n",
       "75%                          1.574608e+05     40.798825    -73.901150   \n",
       "max                          2.788265e+07     40.912869    -73.700935   \n",
       "\n",
       "       Community Board  Council District   Census Tract  \n",
       "count     15648.000000      15648.000000   15648.000000  \n",
       "mean        231.011631         18.592025    7656.710251  \n",
       "std         122.906901         15.014731   21410.078016  \n",
       "min         101.000000          1.000000       1.000000  \n",
       "25%         107.000000          5.000000     113.000000  \n",
       "50%         207.000000         14.000000     249.000000  \n",
       "75%         314.000000         30.000000     809.000000  \n",
       "max         503.000000         51.000000  157903.000000  "
      ]
     },
     "execution_count": 13,
     "metadata": {},
     "output_type": "execute_result"
    }
   ],
   "source": [
    "df.describe()"
   ]
  },
  {
   "cell_type": "markdown",
   "id": "71658d5c",
   "metadata": {},
   "source": [
    "## Clean And Prepare The Data"
   ]
  },
  {
   "cell_type": "code",
   "execution_count": 15,
   "id": "c48ba1f1",
   "metadata": {},
   "outputs": [],
   "source": [
    "df = df.replace({'Not Available': np.nan})\n",
    "\n",
    "for col in list(df.columns):\n",
    "    if ('ft²' in col or 'kBtu' in col or 'Metric Tons CO2e' in col or 'kWh' in \n",
    "        col or 'therms' in col or 'gal' in col or 'Score' in col):\n",
    "        df[col] = df[col].astype(float)"
   ]
  },
  {
   "cell_type": "code",
   "execution_count": 30,
   "id": "20cb4e24",
   "metadata": {},
   "outputs": [],
   "source": [
    "def missingValuesTable(df): \n",
    "    missingValues = df.isnull().sum()\n",
    "\n",
    "    missingValuesPercentage = 100 * df.isnull().sum() / len(df)\n",
    "\n",
    "    missingValTable = pd.concat([missingValues, missingValuesPercentage], axis=1)\n",
    "\n",
    "    missingValTable = missingValTable.rename(columns={0: 'Missing Values', 1: 'Missing Values Percentage'})\n",
    "\n",
    "    missingValTable = missingValTable[missingValTable.iloc[:, 1] != 0].sort_values('Missing Values Percentage', ascending=False).round(1)\n",
    "\n",
    "    print(\"Your selected dataframe has \" + str(df.shape[1]) + \" columns.\\n\"      \n",
    "          \"There are \" + str(missingValTable.shape[0]) + \" columns that have missing values.\")\n",
    "\n",
    "    return missingValTable"
   ]
  },
  {
   "cell_type": "code",
   "execution_count": 31,
   "id": "af1ba15a",
   "metadata": {},
   "outputs": [
    {
     "name": "stdout",
     "output_type": "stream",
     "text": [
      "Your selected dataframe has 262 columns.\n",
      "There are 236 columns that have missing values.\n"
     ]
    },
    {
     "data": {
      "application/vnd.microsoft.datawrangler.viewer.v0+json": {
       "columns": [
        {
         "name": "index",
         "rawType": "object",
         "type": "string"
        },
        {
         "name": "Missing Values",
         "rawType": "int64",
         "type": "integer"
        },
        {
         "name": "Missing Values Percentage",
         "rawType": "float64",
         "type": "float"
        }
       ],
       "conversionMethod": "pd.DataFrame",
       "ref": "14f7f866-1e15-46af-bdab-988eb4c152ad",
       "rows": [
        [
         "Kerosene Use (kBtu)",
         "16378",
         "100.0"
        ],
        [
         "% Difference from National Median Water/Wastewater Source  EUI",
         "16378",
         "100.0"
        ],
        [
         "Convention Center - Gross Floor Area (ft²)",
         "16378",
         "100.0"
        ],
        [
         "CoStar Property ID",
         "16378",
         "100.0"
        ],
        [
         "% Difference from National Median Water/Wastewater Site EUI",
         "16378",
         "100.0"
        ],
        [
         "Data Center - PUE",
         "16378",
         "100.0"
        ],
        [
         "Propane Use (kBtu)",
         "16378",
         "100.0"
        ],
        [
         "Convenience Store With Gas Station - Number of Open or Closed Refrigeration/Freezer Units",
         "16378",
         "100.0"
        ],
        [
         "Convenience Store With Gas Station - Open or Closed Refrigeration Density (Number per 1,000 ft²)",
         "16378",
         "100.0"
        ],
        [
         "Convenience Store with Gas Station - Gross Floor Area (ft²)",
         "16378",
         "100.0"
        ],
        [
         "Energy/Power Station - Gross Floor Area (ft²)",
         "16377",
         "100.0"
        ],
        [
         "District Hot Water Use (kBtu)",
         "16376",
         "100.0"
        ],
        [
         "Estimated Data Flag -  Municipally Supplied Reclaimed Water – Outdoor Use",
         "16376",
         "100.0"
        ],
        [
         "Ambulatory Surgical Center - Gross Floor Area (ft²)",
         "16375",
         "100.0"
        ],
        [
         "Data Center - National Median PUE",
         "16375",
         "100.0"
        ],
        [
         "Third Party Certification Date Anticipated",
         "16373",
         "100.0"
        ],
        [
         "Third Party Certification",
         "16373",
         "100.0"
        ],
        [
         "Third Party Certification Date Achieved",
         "16373",
         "100.0"
        ],
        [
         "Automobile Dealership - Gross Floor Area (ft²)",
         "16371",
         "100.0"
        ],
        [
         "Mailing Center/Post Office - Gross Floor Area (ft²)",
         "16370",
         "100.0"
        ],
        [
         "Movie Theater - Gross Floor Area (ft²)",
         "16370",
         "100.0"
        ],
        [
         "Adult Education - Gross Floor Area (ft²)",
         "16369",
         "99.9"
        ],
        [
         "Wholesale Club/Supercenter- Gross Floor Area (ft²)",
         "16368",
         "99.9"
        ],
        [
         "Laboratory - Gross Floor Area (ft²)",
         "16368",
         "99.9"
        ],
        [
         "Enclosed Mall - Gross Floor Area (ft²)",
         "16365",
         "99.9"
        ],
        [
         "Fuel Oil #1 Use (kBtu)",
         "16359",
         "99.9"
        ],
        [
         "District Chilled Water Use (kBtu)",
         "16357",
         "99.9"
        ],
        [
         "Municipally Supplied Potable Water - Outdoor Use (kgal)",
         "16355",
         "99.9"
        ],
        [
         "Outdoor Water Use (All Water Sources) (kgal)",
         "16350",
         "99.8"
        ],
        [
         "Refrigerated Warehouse - Gross Floor Area (ft²)",
         "16350",
         "99.8"
        ],
        [
         "Museum - Gross Floor Area (ft²)",
         "16349",
         "99.8"
        ],
        [
         "Performing Arts - Gross Floor Area (ft²)",
         "16349",
         "99.8"
        ],
        [
         "Courthouse - Gross Floor Area (ft²)",
         "16348",
         "99.8"
        ],
        [
         "LEED US Project ID",
         "16347",
         "99.8"
        ],
        [
         "Social/Meeting Hall - Gross Floor Area (ft²)",
         "16341",
         "99.8"
        ],
        [
         "Diesel #2 Use (kBtu)",
         "16338",
         "99.8"
        ],
        [
         "Food Sales - Gross Floor Area (ft²)",
         "16336",
         "99.7"
        ],
        [
         "Hospital (General Medical & Surgical) - Owned By",
         "16335",
         "99.7"
        ],
        [
         "Food Service - Gross Floor Area (ft²)",
         "16333",
         "99.7"
        ],
        [
         "Data Center - UPS System Redundancy",
         "16332",
         "99.7"
        ],
        [
         "Avoided Emissions - Onsite Green Power (Metric Tons CO2e)",
         "16332",
         "99.7"
        ],
        [
         "Data Center - Cooling Equipment Redundancy",
         "16332",
         "99.7"
        ],
        [
         "Green Power - Onsite (kWh)",
         "16332",
         "99.7"
        ],
        [
         "Percent of RECs Retained",
         "16332",
         "99.7"
        ],
        [
         "Percent of Total Electricity Generated from Onsite Renewable Systems",
         "16332",
         "99.7"
        ],
        [
         "Outpatient Rehabilitation/Physical Therapy - Gross Floor Area (ft²)",
         "16332",
         "99.7"
        ],
        [
         "Electricity Use – Generated from Onsite Renewable Systems (kWh)",
         "16332",
         "99.7"
        ],
        [
         "Electricity Use – Generated from Onsite Renewable Systems and Used Onsite (kBtu)",
         "16332",
         "99.7"
        ],
        [
         "Electricity Use – Generated from Onsite Renewable Systems and Exported (kWh)",
         "16332",
         "99.7"
        ],
        [
         "College/University - Number of Computers",
         "16328",
         "99.7"
        ]
       ],
       "shape": {
        "columns": 2,
        "rows": 236
       }
      },
      "text/html": [
       "<div>\n",
       "<style scoped>\n",
       "    .dataframe tbody tr th:only-of-type {\n",
       "        vertical-align: middle;\n",
       "    }\n",
       "\n",
       "    .dataframe tbody tr th {\n",
       "        vertical-align: top;\n",
       "    }\n",
       "\n",
       "    .dataframe thead th {\n",
       "        text-align: right;\n",
       "    }\n",
       "</style>\n",
       "<table border=\"1\" class=\"dataframe\">\n",
       "  <thead>\n",
       "    <tr style=\"text-align: right;\">\n",
       "      <th></th>\n",
       "      <th>Missing Values</th>\n",
       "      <th>Missing Values Percentage</th>\n",
       "    </tr>\n",
       "  </thead>\n",
       "  <tbody>\n",
       "    <tr>\n",
       "      <th>Kerosene Use (kBtu)</th>\n",
       "      <td>16378</td>\n",
       "      <td>100.0</td>\n",
       "    </tr>\n",
       "    <tr>\n",
       "      <th>% Difference from National Median Water/Wastewater Source  EUI</th>\n",
       "      <td>16378</td>\n",
       "      <td>100.0</td>\n",
       "    </tr>\n",
       "    <tr>\n",
       "      <th>Convention Center - Gross Floor Area (ft²)</th>\n",
       "      <td>16378</td>\n",
       "      <td>100.0</td>\n",
       "    </tr>\n",
       "    <tr>\n",
       "      <th>CoStar Property ID</th>\n",
       "      <td>16378</td>\n",
       "      <td>100.0</td>\n",
       "    </tr>\n",
       "    <tr>\n",
       "      <th>% Difference from National Median Water/Wastewater Site EUI</th>\n",
       "      <td>16378</td>\n",
       "      <td>100.0</td>\n",
       "    </tr>\n",
       "    <tr>\n",
       "      <th>...</th>\n",
       "      <td>...</td>\n",
       "      <td>...</td>\n",
       "    </tr>\n",
       "    <tr>\n",
       "      <th>Largest Property Use Type</th>\n",
       "      <td>11</td>\n",
       "      <td>0.1</td>\n",
       "    </tr>\n",
       "    <tr>\n",
       "      <th>Primary Property Type - Portfolio Manager-Calculated</th>\n",
       "      <td>11</td>\n",
       "      <td>0.1</td>\n",
       "    </tr>\n",
       "    <tr>\n",
       "      <th>Property GFA - Calculated (Buildings and Parking) (ft²)</th>\n",
       "      <td>9</td>\n",
       "      <td>0.1</td>\n",
       "    </tr>\n",
       "    <tr>\n",
       "      <th>Property GFA - Calculated (Buildings) (ft²)</th>\n",
       "      <td>8</td>\n",
       "      <td>0.0</td>\n",
       "    </tr>\n",
       "    <tr>\n",
       "      <th>List of All Property Use Types at Property</th>\n",
       "      <td>3</td>\n",
       "      <td>0.0</td>\n",
       "    </tr>\n",
       "  </tbody>\n",
       "</table>\n",
       "<p>236 rows × 2 columns</p>\n",
       "</div>"
      ],
      "text/plain": [
       "                                                    Missing Values  \\\n",
       "Kerosene Use (kBtu)                                          16378   \n",
       "% Difference from National Median Water/Wastewa...           16378   \n",
       "Convention Center - Gross Floor Area (ft²)                   16378   \n",
       "CoStar Property ID                                           16378   \n",
       "% Difference from National Median Water/Wastewa...           16378   \n",
       "...                                                            ...   \n",
       "Largest Property Use Type                                       11   \n",
       "Primary Property Type - Portfolio Manager-Calcu...              11   \n",
       "Property GFA - Calculated (Buildings and Parkin...               9   \n",
       "Property GFA - Calculated (Buildings) (ft²)                      8   \n",
       "List of All Property Use Types at Property                       3   \n",
       "\n",
       "                                                    Missing Values Percentage  \n",
       "Kerosene Use (kBtu)                                                     100.0  \n",
       "% Difference from National Median Water/Wastewa...                      100.0  \n",
       "Convention Center - Gross Floor Area (ft²)                              100.0  \n",
       "CoStar Property ID                                                      100.0  \n",
       "% Difference from National Median Water/Wastewa...                      100.0  \n",
       "...                                                                       ...  \n",
       "Largest Property Use Type                                                 0.1  \n",
       "Primary Property Type - Portfolio Manager-Calcu...                        0.1  \n",
       "Property GFA - Calculated (Buildings and Parkin...                        0.1  \n",
       "Property GFA - Calculated (Buildings) (ft²)                               0.0  \n",
       "List of All Property Use Types at Property                                0.0  \n",
       "\n",
       "[236 rows x 2 columns]"
      ]
     },
     "execution_count": 31,
     "metadata": {},
     "output_type": "execute_result"
    }
   ],
   "source": [
    "missingValuesTable(df)"
   ]
  },
  {
   "cell_type": "markdown",
   "id": "154eec74",
   "metadata": {},
   "source": [
    "## Exploratory Data Analysis"
   ]
  }
 ],
 "metadata": {
  "kernelspec": {
   "display_name": "tf-env",
   "language": "python",
   "name": "python3"
  },
  "language_info": {
   "codemirror_mode": {
    "name": "ipython",
    "version": 3
   },
   "file_extension": ".py",
   "mimetype": "text/x-python",
   "name": "python",
   "nbconvert_exporter": "python",
   "pygments_lexer": "ipython3",
   "version": "3.8.20"
  }
 },
 "nbformat": 4,
 "nbformat_minor": 5
}
