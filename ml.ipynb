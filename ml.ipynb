{
 "cells": [
  {
   "cell_type": "markdown",
   "id": "bbc96f60",
   "metadata": {},
   "source": [
    "## Imports"
   ]
  },
  {
   "cell_type": "code",
   "execution_count": 8,
   "id": "cf8ec5b8",
   "metadata": {},
   "outputs": [],
   "source": [
    "import pandas as pd\n",
    "import seaborn as sns\n",
    "import matplotlib.pyplot as plt\n",
    "import numpy as np\n",
    "\n",
    "from sklearn.preprocessing import StandardScaler\n",
    "from sklearn.model_selection import train_test_split\n",
    "from sklearn.ensemble import RandomForestClassifier\n",
    "\n",
    "import warnings\n",
    "warnings.filterwarnings('ignore')"
   ]
  },
  {
   "cell_type": "markdown",
   "id": "76a66ddb",
   "metadata": {},
   "source": [
    "## Import Data"
   ]
  },
  {
   "cell_type": "code",
   "execution_count": 9,
   "id": "e690ec18",
   "metadata": {},
   "outputs": [],
   "source": [
    "df = pd.read_csv('Energy_and_Water_Data_Disclosure_for_Local_Law_84_2017__Data_for_Calendar_Year_2016_.csv')"
   ]
  },
  {
   "cell_type": "markdown",
   "id": "8c24fc53",
   "metadata": {},
   "source": [
    "## Understand The Data"
   ]
  },
  {
   "cell_type": "code",
   "execution_count": 10,
   "id": "03bebac8",
   "metadata": {},
   "outputs": [
    {
     "name": "stdout",
     "output_type": "stream",
     "text": [
      "16378\n",
      "262\n"
     ]
    }
   ],
   "source": [
    "print(df.shape[0])\n",
    "print(df.shape[1])"
   ]
  },
  {
   "cell_type": "code",
   "execution_count": 11,
   "id": "f1059e44",
   "metadata": {},
   "outputs": [
    {
     "data": {
      "text/plain": [
       "Property Id               0\n",
       "Property Name             0\n",
       "Parent Property Id        0\n",
       "Parent Property Name      0\n",
       "Year Ending               0\n",
       "                       ... \n",
       "Longitude               730\n",
       "Community Board         730\n",
       "Council District        730\n",
       "Census Tract            730\n",
       "NTA                     730\n",
       "Length: 262, dtype: int64"
      ]
     },
     "execution_count": 11,
     "metadata": {},
     "output_type": "execute_result"
    }
   ],
   "source": [
    "df.isnull().sum()"
   ]
  },
  {
   "cell_type": "code",
   "execution_count": 12,
   "id": "2bf814fc",
   "metadata": {},
   "outputs": [
    {
     "data": {
      "text/plain": [
       "Property Id               int64\n",
       "Property Name            object\n",
       "Parent Property Id       object\n",
       "Parent Property Name     object\n",
       "Year Ending              object\n",
       "                         ...   \n",
       "Longitude               float64\n",
       "Community Board         float64\n",
       "Council District        float64\n",
       "Census Tract            float64\n",
       "NTA                      object\n",
       "Length: 262, dtype: object"
      ]
     },
     "execution_count": 12,
     "metadata": {},
     "output_type": "execute_result"
    }
   ],
   "source": [
    "df.dtypes"
   ]
  },
  {
   "cell_type": "code",
   "execution_count": 13,
   "id": "f7187aed",
   "metadata": {},
   "outputs": [
    {
     "data": {
      "application/vnd.microsoft.datawrangler.viewer.v0+json": {
       "columns": [
        {
         "name": "index",
         "rawType": "object",
         "type": "string"
        },
        {
         "name": "Property Id",
         "rawType": "float64",
         "type": "float"
        },
        {
         "name": "Count of Buildings",
         "rawType": "float64",
         "type": "float"
        },
        {
         "name": "Year Built",
         "rawType": "float64",
         "type": "float"
        },
        {
         "name": "Number of Buildings",
         "rawType": "float64",
         "type": "float"
        },
        {
         "name": "Occupancy",
         "rawType": "float64",
         "type": "float"
        },
        {
         "name": "National Median ENERGY STAR Score",
         "rawType": "float64",
         "type": "float"
        },
        {
         "name": "Property GFA - Self-Reported (ft²)",
         "rawType": "float64",
         "type": "float"
        },
        {
         "name": "Latitude",
         "rawType": "float64",
         "type": "float"
        },
        {
         "name": "Longitude",
         "rawType": "float64",
         "type": "float"
        },
        {
         "name": "Community Board",
         "rawType": "float64",
         "type": "float"
        },
        {
         "name": "Council District",
         "rawType": "float64",
         "type": "float"
        },
        {
         "name": "Census Tract",
         "rawType": "float64",
         "type": "float"
        }
       ],
       "conversionMethod": "pd.DataFrame",
       "ref": "113de11c-190f-4162-a5db-dc5be7218887",
       "rows": [
        [
         "count",
         "16378.0",
         "197.0",
         "16378.0",
         "16378.0",
         "16378.0",
         "16378.0",
         "16378.0",
         "15648.0",
         "15648.0",
         "15648.0",
         "15648.0",
         "15648.0"
        ],
        [
         "mean",
         "3614538.9609842473",
         "12.730964467005077",
         "1950.2038710465258",
         "1.3531566735865186",
         "98.71748687263403",
         "50.0",
         "171861.83526682135",
         "40.74723231518405",
         "-73.9365413847776",
         "231.0116308793456",
         "18.5920245398773",
         "7656.710250511247"
        ],
        [
         "std",
         "1163489.8507835795",
         "13.076061067639952",
         "32.404250219495886",
         "4.146161366352807",
         "7.7566636413910945",
         "0.0",
         "412044.6003224776",
         "0.07589802268397357",
         "0.0669588161678925",
         "122.90690110322727",
         "15.014731448030703",
         "21410.078015992312"
        ],
        [
         "min",
         "7365.0",
         "1.0",
         "1000.0",
         "0.0",
         "0.0",
         "50.0",
         "0.0",
         "40.509037",
         "-74.244118",
         "101.0",
         "1.0",
         "1.0"
        ],
        [
         "25%",
         "2721265.0",
         "3.0",
         "1927.0",
         "1.0",
         "100.0",
         "50.0",
         "63700.0",
         "40.70495975",
         "-73.980492",
         "107.0",
         "5.0",
         "113.0"
        ],
        [
         "50%",
         "3292840.0",
         "9.0",
         "1948.0",
         "1.0",
         "100.0",
         "50.0",
         "92400.0",
         "40.750628",
         "-73.9522255",
         "207.0",
         "14.0",
         "249.0"
        ],
        [
         "75%",
         "4594752.25",
         "17.0",
         "1970.0",
         "1.0",
         "100.0",
         "50.0",
         "157460.75",
         "40.79882525",
         "-73.9011505",
         "314.0",
         "30.0",
         "809.0"
        ],
        [
         "max",
         "6215439.0",
         "61.0",
         "2019.0",
         "161.0",
         "100.0",
         "50.0",
         "27882654.0",
         "40.912869",
         "-73.700935",
         "503.0",
         "51.0",
         "157903.0"
        ]
       ],
       "shape": {
        "columns": 12,
        "rows": 8
       }
      },
      "text/html": [
       "<div>\n",
       "<style scoped>\n",
       "    .dataframe tbody tr th:only-of-type {\n",
       "        vertical-align: middle;\n",
       "    }\n",
       "\n",
       "    .dataframe tbody tr th {\n",
       "        vertical-align: top;\n",
       "    }\n",
       "\n",
       "    .dataframe thead th {\n",
       "        text-align: right;\n",
       "    }\n",
       "</style>\n",
       "<table border=\"1\" class=\"dataframe\">\n",
       "  <thead>\n",
       "    <tr style=\"text-align: right;\">\n",
       "      <th></th>\n",
       "      <th>Property Id</th>\n",
       "      <th>Count of Buildings</th>\n",
       "      <th>Year Built</th>\n",
       "      <th>Number of Buildings</th>\n",
       "      <th>Occupancy</th>\n",
       "      <th>National Median ENERGY STAR Score</th>\n",
       "      <th>Property GFA - Self-Reported (ft²)</th>\n",
       "      <th>Latitude</th>\n",
       "      <th>Longitude</th>\n",
       "      <th>Community Board</th>\n",
       "      <th>Council District</th>\n",
       "      <th>Census Tract</th>\n",
       "    </tr>\n",
       "  </thead>\n",
       "  <tbody>\n",
       "    <tr>\n",
       "      <th>count</th>\n",
       "      <td>1.637800e+04</td>\n",
       "      <td>197.000000</td>\n",
       "      <td>16378.000000</td>\n",
       "      <td>16378.000000</td>\n",
       "      <td>16378.000000</td>\n",
       "      <td>16378.0</td>\n",
       "      <td>1.637800e+04</td>\n",
       "      <td>15648.000000</td>\n",
       "      <td>15648.000000</td>\n",
       "      <td>15648.000000</td>\n",
       "      <td>15648.000000</td>\n",
       "      <td>15648.000000</td>\n",
       "    </tr>\n",
       "    <tr>\n",
       "      <th>mean</th>\n",
       "      <td>3.614539e+06</td>\n",
       "      <td>12.730964</td>\n",
       "      <td>1950.203871</td>\n",
       "      <td>1.353157</td>\n",
       "      <td>98.717487</td>\n",
       "      <td>50.0</td>\n",
       "      <td>1.718618e+05</td>\n",
       "      <td>40.747232</td>\n",
       "      <td>-73.936541</td>\n",
       "      <td>231.011631</td>\n",
       "      <td>18.592025</td>\n",
       "      <td>7656.710251</td>\n",
       "    </tr>\n",
       "    <tr>\n",
       "      <th>std</th>\n",
       "      <td>1.163490e+06</td>\n",
       "      <td>13.076061</td>\n",
       "      <td>32.404250</td>\n",
       "      <td>4.146161</td>\n",
       "      <td>7.756664</td>\n",
       "      <td>0.0</td>\n",
       "      <td>4.120446e+05</td>\n",
       "      <td>0.075898</td>\n",
       "      <td>0.066959</td>\n",
       "      <td>122.906901</td>\n",
       "      <td>15.014731</td>\n",
       "      <td>21410.078016</td>\n",
       "    </tr>\n",
       "    <tr>\n",
       "      <th>min</th>\n",
       "      <td>7.365000e+03</td>\n",
       "      <td>1.000000</td>\n",
       "      <td>1000.000000</td>\n",
       "      <td>0.000000</td>\n",
       "      <td>0.000000</td>\n",
       "      <td>50.0</td>\n",
       "      <td>0.000000e+00</td>\n",
       "      <td>40.509037</td>\n",
       "      <td>-74.244118</td>\n",
       "      <td>101.000000</td>\n",
       "      <td>1.000000</td>\n",
       "      <td>1.000000</td>\n",
       "    </tr>\n",
       "    <tr>\n",
       "      <th>25%</th>\n",
       "      <td>2.721265e+06</td>\n",
       "      <td>3.000000</td>\n",
       "      <td>1927.000000</td>\n",
       "      <td>1.000000</td>\n",
       "      <td>100.000000</td>\n",
       "      <td>50.0</td>\n",
       "      <td>6.370000e+04</td>\n",
       "      <td>40.704960</td>\n",
       "      <td>-73.980492</td>\n",
       "      <td>107.000000</td>\n",
       "      <td>5.000000</td>\n",
       "      <td>113.000000</td>\n",
       "    </tr>\n",
       "    <tr>\n",
       "      <th>50%</th>\n",
       "      <td>3.292840e+06</td>\n",
       "      <td>9.000000</td>\n",
       "      <td>1948.000000</td>\n",
       "      <td>1.000000</td>\n",
       "      <td>100.000000</td>\n",
       "      <td>50.0</td>\n",
       "      <td>9.240000e+04</td>\n",
       "      <td>40.750628</td>\n",
       "      <td>-73.952225</td>\n",
       "      <td>207.000000</td>\n",
       "      <td>14.000000</td>\n",
       "      <td>249.000000</td>\n",
       "    </tr>\n",
       "    <tr>\n",
       "      <th>75%</th>\n",
       "      <td>4.594752e+06</td>\n",
       "      <td>17.000000</td>\n",
       "      <td>1970.000000</td>\n",
       "      <td>1.000000</td>\n",
       "      <td>100.000000</td>\n",
       "      <td>50.0</td>\n",
       "      <td>1.574608e+05</td>\n",
       "      <td>40.798825</td>\n",
       "      <td>-73.901150</td>\n",
       "      <td>314.000000</td>\n",
       "      <td>30.000000</td>\n",
       "      <td>809.000000</td>\n",
       "    </tr>\n",
       "    <tr>\n",
       "      <th>max</th>\n",
       "      <td>6.215439e+06</td>\n",
       "      <td>61.000000</td>\n",
       "      <td>2019.000000</td>\n",
       "      <td>161.000000</td>\n",
       "      <td>100.000000</td>\n",
       "      <td>50.0</td>\n",
       "      <td>2.788265e+07</td>\n",
       "      <td>40.912869</td>\n",
       "      <td>-73.700935</td>\n",
       "      <td>503.000000</td>\n",
       "      <td>51.000000</td>\n",
       "      <td>157903.000000</td>\n",
       "    </tr>\n",
       "  </tbody>\n",
       "</table>\n",
       "</div>"
      ],
      "text/plain": [
       "        Property Id  Count of Buildings    Year Built  Number of Buildings  \\\n",
       "count  1.637800e+04          197.000000  16378.000000         16378.000000   \n",
       "mean   3.614539e+06           12.730964   1950.203871             1.353157   \n",
       "std    1.163490e+06           13.076061     32.404250             4.146161   \n",
       "min    7.365000e+03            1.000000   1000.000000             0.000000   \n",
       "25%    2.721265e+06            3.000000   1927.000000             1.000000   \n",
       "50%    3.292840e+06            9.000000   1948.000000             1.000000   \n",
       "75%    4.594752e+06           17.000000   1970.000000             1.000000   \n",
       "max    6.215439e+06           61.000000   2019.000000           161.000000   \n",
       "\n",
       "          Occupancy  National Median ENERGY STAR Score  \\\n",
       "count  16378.000000                            16378.0   \n",
       "mean      98.717487                               50.0   \n",
       "std        7.756664                                0.0   \n",
       "min        0.000000                               50.0   \n",
       "25%      100.000000                               50.0   \n",
       "50%      100.000000                               50.0   \n",
       "75%      100.000000                               50.0   \n",
       "max      100.000000                               50.0   \n",
       "\n",
       "       Property GFA - Self-Reported (ft²)      Latitude     Longitude  \\\n",
       "count                        1.637800e+04  15648.000000  15648.000000   \n",
       "mean                         1.718618e+05     40.747232    -73.936541   \n",
       "std                          4.120446e+05      0.075898      0.066959   \n",
       "min                          0.000000e+00     40.509037    -74.244118   \n",
       "25%                          6.370000e+04     40.704960    -73.980492   \n",
       "50%                          9.240000e+04     40.750628    -73.952225   \n",
       "75%                          1.574608e+05     40.798825    -73.901150   \n",
       "max                          2.788265e+07     40.912869    -73.700935   \n",
       "\n",
       "       Community Board  Council District   Census Tract  \n",
       "count     15648.000000      15648.000000   15648.000000  \n",
       "mean        231.011631         18.592025    7656.710251  \n",
       "std         122.906901         15.014731   21410.078016  \n",
       "min         101.000000          1.000000       1.000000  \n",
       "25%         107.000000          5.000000     113.000000  \n",
       "50%         207.000000         14.000000     249.000000  \n",
       "75%         314.000000         30.000000     809.000000  \n",
       "max         503.000000         51.000000  157903.000000  "
      ]
     },
     "execution_count": 13,
     "metadata": {},
     "output_type": "execute_result"
    }
   ],
   "source": [
    "df.describe()"
   ]
  },
  {
   "cell_type": "markdown",
   "id": "71658d5c",
   "metadata": {},
   "source": [
    "## Clean And Prepare The Data"
   ]
  },
  {
   "cell_type": "code",
   "execution_count": 15,
   "id": "c48ba1f1",
   "metadata": {},
   "outputs": [],
   "source": [
    "df = df.replace({'Not Available': np.nan})\n",
    "\n",
    "for col in list(df.columns):\n",
    "    if ('ft²' in col or 'kBtu' in col or 'Metric Tons CO2e' in col or 'kWh' in \n",
    "        col or 'therms' in col or 'gal' in col or 'Score' in col):\n",
    "        df[col] = df[col].astype(float)"
   ]
  },
  {
   "cell_type": "code",
   "execution_count": 30,
   "id": "20cb4e24",
   "metadata": {},
   "outputs": [],
   "source": [
    "def missingValuesTable(df): \n",
    "    missingValues = df.isnull().sum()\n",
    "\n",
    "    missingValuesPercentage = 100 * df.isnull().sum() / len(df)\n",
    "\n",
    "    missingValTable = pd.concat([missingValues, missingValuesPercentage], axis=1)\n",
    "\n",
    "    missingValTable = missingValTable.rename(columns={0: 'Missing Values', 1: 'Missing Values Percentage'})\n",
    "\n",
    "    missingValTable = missingValTable[missingValTable.iloc[:, 1] != 0].sort_values('Missing Values Percentage', ascending=False).round(1)\n",
    "\n",
    "    print(\"Your selected dataframe has \" + str(df.shape[1]) + \" columns.\\n\"      \n",
    "          \"There are \" + str(missingValTable.shape[0]) + \" columns that have missing values.\")\n",
    "\n",
    "    return missingValTable"
   ]
  },
  {
   "cell_type": "code",
   "execution_count": 31,
   "id": "af1ba15a",
   "metadata": {},
   "outputs": [
    {
     "name": "stdout",
     "output_type": "stream",
     "text": [
      "Your selected dataframe has 262 columns.\n",
      "There are 236 columns that have missing values.\n"
     ]
    },
    {
     "data": {
      "application/vnd.microsoft.datawrangler.viewer.v0+json": {
       "columns": [
        {
         "name": "index",
         "rawType": "object",
         "type": "string"
        },
        {
         "name": "Missing Values",
         "rawType": "int64",
         "type": "integer"
        },
        {
         "name": "Missing Values Percentage",
         "rawType": "float64",
         "type": "float"
        }
       ],
       "conversionMethod": "pd.DataFrame",
       "ref": "14f7f866-1e15-46af-bdab-988eb4c152ad",
       "rows": [
        [
         "Kerosene Use (kBtu)",
         "16378",
         "100.0"
        ],
        [
         "% Difference from National Median Water/Wastewater Source  EUI",
         "16378",
         "100.0"
        ],
        [
         "Convention Center - Gross Floor Area (ft²)",
         "16378",
         "100.0"
        ],
        [
         "CoStar Property ID",
         "16378",
         "100.0"
        ],
        [
         "% Difference from National Median Water/Wastewater Site EUI",
         "16378",
         "100.0"
        ],
        [
         "Data Center - PUE",
         "16378",
         "100.0"
        ],
        [
         "Propane Use (kBtu)",
         "16378",
         "100.0"
        ],
        [
         "Convenience Store With Gas Station - Number of Open or Closed Refrigeration/Freezer Units",
         "16378",
         "100.0"
        ],
        [
         "Convenience Store With Gas Station - Open or Closed Refrigeration Density (Number per 1,000 ft²)",
         "16378",
         "100.0"
        ],
        [
         "Convenience Store with Gas Station - Gross Floor Area (ft²)",
         "16378",
         "100.0"
        ],
        [
         "Energy/Power Station - Gross Floor Area (ft²)",
         "16377",
         "100.0"
        ],
        [
         "District Hot Water Use (kBtu)",
         "16376",
         "100.0"
        ],
        [
         "Estimated Data Flag -  Municipally Supplied Reclaimed Water – Outdoor Use",
         "16376",
         "100.0"
        ],
        [
         "Ambulatory Surgical Center - Gross Floor Area (ft²)",
         "16375",
         "100.0"
        ],
        [
         "Data Center - National Median PUE",
         "16375",
         "100.0"
        ],
        [
         "Third Party Certification Date Anticipated",
         "16373",
         "100.0"
        ],
        [
         "Third Party Certification",
         "16373",
         "100.0"
        ],
        [
         "Third Party Certification Date Achieved",
         "16373",
         "100.0"
        ],
        [
         "Automobile Dealership - Gross Floor Area (ft²)",
         "16371",
         "100.0"
        ],
        [
         "Mailing Center/Post Office - Gross Floor Area (ft²)",
         "16370",
         "100.0"
        ],
        [
         "Movie Theater - Gross Floor Area (ft²)",
         "16370",
         "100.0"
        ],
        [
         "Adult Education - Gross Floor Area (ft²)",
         "16369",
         "99.9"
        ],
        [
         "Wholesale Club/Supercenter- Gross Floor Area (ft²)",
         "16368",
         "99.9"
        ],
        [
         "Laboratory - Gross Floor Area (ft²)",
         "16368",
         "99.9"
        ],
        [
         "Enclosed Mall - Gross Floor Area (ft²)",
         "16365",
         "99.9"
        ],
        [
         "Fuel Oil #1 Use (kBtu)",
         "16359",
         "99.9"
        ],
        [
         "District Chilled Water Use (kBtu)",
         "16357",
         "99.9"
        ],
        [
         "Municipally Supplied Potable Water - Outdoor Use (kgal)",
         "16355",
         "99.9"
        ],
        [
         "Outdoor Water Use (All Water Sources) (kgal)",
         "16350",
         "99.8"
        ],
        [
         "Refrigerated Warehouse - Gross Floor Area (ft²)",
         "16350",
         "99.8"
        ],
        [
         "Museum - Gross Floor Area (ft²)",
         "16349",
         "99.8"
        ],
        [
         "Performing Arts - Gross Floor Area (ft²)",
         "16349",
         "99.8"
        ],
        [
         "Courthouse - Gross Floor Area (ft²)",
         "16348",
         "99.8"
        ],
        [
         "LEED US Project ID",
         "16347",
         "99.8"
        ],
        [
         "Social/Meeting Hall - Gross Floor Area (ft²)",
         "16341",
         "99.8"
        ],
        [
         "Diesel #2 Use (kBtu)",
         "16338",
         "99.8"
        ],
        [
         "Food Sales - Gross Floor Area (ft²)",
         "16336",
         "99.7"
        ],
        [
         "Hospital (General Medical & Surgical) - Owned By",
         "16335",
         "99.7"
        ],
        [
         "Food Service - Gross Floor Area (ft²)",
         "16333",
         "99.7"
        ],
        [
         "Data Center - UPS System Redundancy",
         "16332",
         "99.7"
        ],
        [
         "Avoided Emissions - Onsite Green Power (Metric Tons CO2e)",
         "16332",
         "99.7"
        ],
        [
         "Data Center - Cooling Equipment Redundancy",
         "16332",
         "99.7"
        ],
        [
         "Green Power - Onsite (kWh)",
         "16332",
         "99.7"
        ],
        [
         "Percent of RECs Retained",
         "16332",
         "99.7"
        ],
        [
         "Percent of Total Electricity Generated from Onsite Renewable Systems",
         "16332",
         "99.7"
        ],
        [
         "Outpatient Rehabilitation/Physical Therapy - Gross Floor Area (ft²)",
         "16332",
         "99.7"
        ],
        [
         "Electricity Use – Generated from Onsite Renewable Systems (kWh)",
         "16332",
         "99.7"
        ],
        [
         "Electricity Use – Generated from Onsite Renewable Systems and Used Onsite (kBtu)",
         "16332",
         "99.7"
        ],
        [
         "Electricity Use – Generated from Onsite Renewable Systems and Exported (kWh)",
         "16332",
         "99.7"
        ],
        [
         "College/University - Number of Computers",
         "16328",
         "99.7"
        ]
       ],
       "shape": {
        "columns": 2,
        "rows": 236
       }
      },
      "text/html": [
       "<div>\n",
       "<style scoped>\n",
       "    .dataframe tbody tr th:only-of-type {\n",
       "        vertical-align: middle;\n",
       "    }\n",
       "\n",
       "    .dataframe tbody tr th {\n",
       "        vertical-align: top;\n",
       "    }\n",
       "\n",
       "    .dataframe thead th {\n",
       "        text-align: right;\n",
       "    }\n",
       "</style>\n",
       "<table border=\"1\" class=\"dataframe\">\n",
       "  <thead>\n",
       "    <tr style=\"text-align: right;\">\n",
       "      <th></th>\n",
       "      <th>Missing Values</th>\n",
       "      <th>Missing Values Percentage</th>\n",
       "    </tr>\n",
       "  </thead>\n",
       "  <tbody>\n",
       "    <tr>\n",
       "      <th>Kerosene Use (kBtu)</th>\n",
       "      <td>16378</td>\n",
       "      <td>100.0</td>\n",
       "    </tr>\n",
       "    <tr>\n",
       "      <th>% Difference from National Median Water/Wastewater Source  EUI</th>\n",
       "      <td>16378</td>\n",
       "      <td>100.0</td>\n",
       "    </tr>\n",
       "    <tr>\n",
       "      <th>Convention Center - Gross Floor Area (ft²)</th>\n",
       "      <td>16378</td>\n",
       "      <td>100.0</td>\n",
       "    </tr>\n",
       "    <tr>\n",
       "      <th>CoStar Property ID</th>\n",
       "      <td>16378</td>\n",
       "      <td>100.0</td>\n",
       "    </tr>\n",
       "    <tr>\n",
       "      <th>% Difference from National Median Water/Wastewater Site EUI</th>\n",
       "      <td>16378</td>\n",
       "      <td>100.0</td>\n",
       "    </tr>\n",
       "    <tr>\n",
       "      <th>...</th>\n",
       "      <td>...</td>\n",
       "      <td>...</td>\n",
       "    </tr>\n",
       "    <tr>\n",
       "      <th>Largest Property Use Type</th>\n",
       "      <td>11</td>\n",
       "      <td>0.1</td>\n",
       "    </tr>\n",
       "    <tr>\n",
       "      <th>Primary Property Type - Portfolio Manager-Calculated</th>\n",
       "      <td>11</td>\n",
       "      <td>0.1</td>\n",
       "    </tr>\n",
       "    <tr>\n",
       "      <th>Property GFA - Calculated (Buildings and Parking) (ft²)</th>\n",
       "      <td>9</td>\n",
       "      <td>0.1</td>\n",
       "    </tr>\n",
       "    <tr>\n",
       "      <th>Property GFA - Calculated (Buildings) (ft²)</th>\n",
       "      <td>8</td>\n",
       "      <td>0.0</td>\n",
       "    </tr>\n",
       "    <tr>\n",
       "      <th>List of All Property Use Types at Property</th>\n",
       "      <td>3</td>\n",
       "      <td>0.0</td>\n",
       "    </tr>\n",
       "  </tbody>\n",
       "</table>\n",
       "<p>236 rows × 2 columns</p>\n",
       "</div>"
      ],
      "text/plain": [
       "                                                    Missing Values  \\\n",
       "Kerosene Use (kBtu)                                          16378   \n",
       "% Difference from National Median Water/Wastewa...           16378   \n",
       "Convention Center - Gross Floor Area (ft²)                   16378   \n",
       "CoStar Property ID                                           16378   \n",
       "% Difference from National Median Water/Wastewa...           16378   \n",
       "...                                                            ...   \n",
       "Largest Property Use Type                                       11   \n",
       "Primary Property Type - Portfolio Manager-Calcu...              11   \n",
       "Property GFA - Calculated (Buildings and Parkin...               9   \n",
       "Property GFA - Calculated (Buildings) (ft²)                      8   \n",
       "List of All Property Use Types at Property                       3   \n",
       "\n",
       "                                                    Missing Values Percentage  \n",
       "Kerosene Use (kBtu)                                                     100.0  \n",
       "% Difference from National Median Water/Wastewa...                      100.0  \n",
       "Convention Center - Gross Floor Area (ft²)                              100.0  \n",
       "CoStar Property ID                                                      100.0  \n",
       "% Difference from National Median Water/Wastewa...                      100.0  \n",
       "...                                                                       ...  \n",
       "Largest Property Use Type                                                 0.1  \n",
       "Primary Property Type - Portfolio Manager-Calcu...                        0.1  \n",
       "Property GFA - Calculated (Buildings and Parkin...                        0.1  \n",
       "Property GFA - Calculated (Buildings) (ft²)                               0.0  \n",
       "List of All Property Use Types at Property                                0.0  \n",
       "\n",
       "[236 rows x 2 columns]"
      ]
     },
     "execution_count": 31,
     "metadata": {},
     "output_type": "execute_result"
    }
   ],
   "source": [
    "missingValuesTable(df)"
   ]
  },
  {
   "cell_type": "markdown",
   "id": "154eec74",
   "metadata": {},
   "source": [
    "## Exploratory Data Analysis"
   ]
  },
  {
   "cell_type": "code",
   "execution_count": 39,
   "id": "2159a89b",
   "metadata": {},
   "outputs": [
    {
     "data": {
      "text/plain": [
       "Text(0.5, 1.0, 'Energy Star Score Distribution')"
      ]
     },
     "execution_count": 39,
     "metadata": {},
     "output_type": "execute_result"
    },
    {
     "data": {
      "image/png": "[encoded data removed]",
      "text/plain": [
       "<Figure size 800x800 with 1 Axes>"
      ]
     },
     "metadata": {},
     "output_type": "display_data"
    }
   ],
   "source": [
    "plt.figure(figsize(8,8))\n",
    "\n",
    "df = df.rename(columns = {'ENERGY STAR Score': 'score'})\n",
    "\n",
    "plt.style.use('fivethirtyeight')\n",
    "\n",
    "plt.hist(df['score'].dropna(), bins= 100, edgecolor = 'k')\n",
    "\n",
    "plt.xlabel('Score')\n",
    "plt.ylabel('Number Of Buildings')\n",
    "plt.title('Energy Star Score Distribution')"
   ]
  },
  {
   "cell_type": "code",
   "execution_count": 42,
   "id": "ee1fa584",
   "metadata": {},
   "outputs": [
    {
     "data": {
      "text/plain": [
       "Text(0.5, 1.0, 'Site EUI Distribution')"
      ]
     },
     "execution_count": 42,
     "metadata": {},
     "output_type": "execute_result"
    },
    {
     "data": {
      "image/png": "[encoded data removed]",
      "text/plain": [
       "<Figure size 800x800 with 1 Axes>"
      ]
     },
     "metadata": {},
     "output_type": "display_data"
    }
   ],
   "source": [
    "plt.figure(figsize(8,8))\n",
    "\n",
    "plt.hist((df['Site EUI (kBtu/ft²)']).dropna(), bins = 100, edgecolor = 'k')\n",
    "\n",
    "plt.xlabel('Site EUI');\n",
    "plt.ylabel('Count')\n",
    "plt.title('Site EUI Distribution')"
   ]
  },
  {
   "cell_type": "code",
   "execution_count": 43,
   "id": "883d4bcf",
   "metadata": {},
   "outputs": [
    {
     "data": {
      "text/plain": [
       "count     16095.000000\n",
       "mean        228.991028\n",
       "std        7300.206821\n",
       "min           0.000000\n",
       "25%          60.300000\n",
       "50%          78.200000\n",
       "75%         100.250000\n",
       "max      869265.000000\n",
       "Name: Site EUI (kBtu/ft²), dtype: float64"
      ]
     },
     "execution_count": 43,
     "metadata": {},
     "output_type": "execute_result"
    }
   ],
   "source": [
    "df['Site EUI (kBtu/ft²)'].describe()"
   ]
  },
  {
   "cell_type": "code",
   "execution_count": 44,
   "id": "de497172",
   "metadata": {},
   "outputs": [
    {
     "data": {
      "text/plain": [
       "14058     51328.8\n",
       "14056     51831.2\n",
       "2889      78360.1\n",
       "3102      84969.6\n",
       "16035     95560.2\n",
       "3101     103562.7\n",
       "3100     112173.6\n",
       "16376    126307.4\n",
       "9681     143974.4\n",
       "1635     869265.0\n",
       "Name: Site EUI (kBtu/ft²), dtype: float64"
      ]
     },
     "execution_count": 44,
     "metadata": {},
     "output_type": "execute_result"
    }
   ],
   "source": [
    "df['Site EUI (kBtu/ft²)'].dropna().sort_values().tail(10)"
   ]
  },
  {
   "cell_type": "code",
   "execution_count": 45,
   "id": "f2702fcb",
   "metadata": {},
   "outputs": [
    {
     "data": {
      "application/vnd.microsoft.datawrangler.viewer.v0+json": {
       "columns": [
        {
         "name": "index",
         "rawType": "int64",
         "type": "integer"
        },
        {
         "name": "Property Id",
         "rawType": "int64",
         "type": "integer"
        },
        {
         "name": "Property Name",
         "rawType": "object",
         "type": "string"
        },
        {
         "name": "Parent Property Id",
         "rawType": "object",
         "type": "string"
        },
        {
         "name": "Parent Property Name",
         "rawType": "object",
         "type": "string"
        },
        {
         "name": "Year Ending",
         "rawType": "object",
         "type": "string"
        },
        {
         "name": "NYC Borough, Block and Lot (BBL)",
         "rawType": "object",
         "type": "string"
        },
        {
         "name": "NYC Building Identification Number (BIN)",
         "rawType": "object",
         "type": "string"
        },
        {
         "name": "Count of Buildings",
         "rawType": "float64",
         "type": "float"
        },
        {
         "name": "Address 1",
         "rawType": "object",
         "type": "string"
        },
        {
         "name": "Address 2",
         "rawType": "object",
         "type": "unknown"
        },
        {
         "name": "City",
         "rawType": "object",
         "type": "string"
        },
        {
         "name": "County",
         "rawType": "object",
         "type": "unknown"
        },
        {
         "name": "Postcode",
         "rawType": "object",
         "type": "string"
        },
        {
         "name": "Primary Property Type - Self Selected",
         "rawType": "object",
         "type": "string"
        },
        {
         "name": "Primary Property Type - Portfolio Manager-Calculated",
         "rawType": "object",
         "type": "string"
        },
        {
         "name": "National Median Reference Property Type",
         "rawType": "object",
         "type": "string"
        },
        {
         "name": "List of All Property Use Types at Property",
         "rawType": "object",
         "type": "string"
        },
        {
         "name": "Largest Property Use Type",
         "rawType": "object",
         "type": "string"
        },
        {
         "name": "Largest Property Use Type - Gross Floor Area (ft²)",
         "rawType": "float64",
         "type": "float"
        },
        {
         "name": "2nd Largest Property Use Type",
         "rawType": "object",
         "type": "unknown"
        },
        {
         "name": "2nd Largest Property Use - Gross Floor Area (ft²)",
         "rawType": "float64",
         "type": "float"
        },
        {
         "name": "3rd Largest Property Use Type",
         "rawType": "object",
         "type": "unknown"
        },
        {
         "name": "3rd Largest Property Use Type - Gross Floor Area (ft²)",
         "rawType": "float64",
         "type": "float"
        },
        {
         "name": "Year Built",
         "rawType": "int64",
         "type": "integer"
        },
        {
         "name": "Number of Buildings",
         "rawType": "int64",
         "type": "integer"
        },
        {
         "name": "Occupancy",
         "rawType": "int64",
         "type": "integer"
        },
        {
         "name": "Metered Areas (Energy)",
         "rawType": "object",
         "type": "string"
        },
        {
         "name": "Metered Areas  (Water)",
         "rawType": "object",
         "type": "unknown"
        },
        {
         "name": "score",
         "rawType": "float64",
         "type": "float"
        },
        {
         "name": "National Median ENERGY STAR Score",
         "rawType": "float64",
         "type": "float"
        },
        {
         "name": "ENERGY STAR Certification - Year(s) Certified",
         "rawType": "object",
         "type": "unknown"
        },
        {
         "name": "ENERGY STAR Certification - Last Approval Date",
         "rawType": "object",
         "type": "unknown"
        },
        {
         "name": "ENERGY STAR Certification - Eligibility",
         "rawType": "object",
         "type": "string"
        },
        {
         "name": "Site EUI (kBtu/ft²)",
         "rawType": "float64",
         "type": "float"
        },
        {
         "name": "Weather Normalized Site EUI (kBtu/ft²)",
         "rawType": "float64",
         "type": "float"
        },
        {
         "name": "National Median Site EUI (kBtu/ft²)",
         "rawType": "float64",
         "type": "float"
        },
        {
         "name": "% Difference from National Median Site EUI",
         "rawType": "object",
         "type": "string"
        },
        {
         "name": "Site Energy Use (kBtu)",
         "rawType": "float64",
         "type": "float"
        },
        {
         "name": "Weather Normalized Site Energy Use (kBtu)",
         "rawType": "float64",
         "type": "float"
        },
        {
         "name": "Source Energy Use (kBtu)",
         "rawType": "float64",
         "type": "float"
        },
        {
         "name": "National Median Site Energy Use (kBtu)",
         "rawType": "float64",
         "type": "float"
        },
        {
         "name": "Weather Normalized Site Electricity Intensity (kWh/ft²)",
         "rawType": "float64",
         "type": "float"
        },
        {
         "name": "Weather Normalized Site Natural Gas Intensity (therms/ft²)",
         "rawType": "float64",
         "type": "float"
        },
        {
         "name": "Weather Normalized Source EUI (kBtu/ft²)",
         "rawType": "float64",
         "type": "float"
        },
        {
         "name": "National Median Source EUI (kBtu/ft²)",
         "rawType": "float64",
         "type": "float"
        },
        {
         "name": "% Difference from National Median Source EUI",
         "rawType": "object",
         "type": "string"
        },
        {
         "name": "Source Energy Use - Adjusted to Current Year (kBtu)",
         "rawType": "float64",
         "type": "float"
        },
        {
         "name": "Weather Normalized Source Energy Use (kBtu)",
         "rawType": "float64",
         "type": "float"
        },
        {
         "name": "National Median Source Energy Use (kBtu)",
         "rawType": "float64",
         "type": "float"
        },
        {
         "name": "Fuel Oil #1 Use (kBtu)",
         "rawType": "float64",
         "type": "float"
        },
        {
         "name": "Fuel Oil #2 Use (kBtu)",
         "rawType": "float64",
         "type": "float"
        },
        {
         "name": "Fuel Oil #4 Use (kBtu)",
         "rawType": "float64",
         "type": "float"
        },
        {
         "name": "Fuel Oil #5 & 6 Use (kBtu)",
         "rawType": "float64",
         "type": "float"
        },
        {
         "name": "Diesel #2 Use (kBtu)",
         "rawType": "float64",
         "type": "float"
        },
        {
         "name": "Kerosene Use (kBtu)",
         "rawType": "float64",
         "type": "float"
        },
        {
         "name": "Propane Use (kBtu)",
         "rawType": "float64",
         "type": "float"
        },
        {
         "name": "District Steam Use (kBtu)",
         "rawType": "float64",
         "type": "float"
        },
        {
         "name": "District Hot Water Use (kBtu)",
         "rawType": "float64",
         "type": "float"
        },
        {
         "name": "District Chilled Water Use (kBtu)",
         "rawType": "float64",
         "type": "float"
        },
        {
         "name": "Natural Gas Use (kBtu)",
         "rawType": "float64",
         "type": "float"
        },
        {
         "name": "Weather Normalized Site Natural Gas Use (therms)",
         "rawType": "float64",
         "type": "float"
        },
        {
         "name": "Electricity Use - Grid Purchase (kBtu)",
         "rawType": "float64",
         "type": "float"
        },
        {
         "name": "Weather Normalized Site Electricity (kWh)",
         "rawType": "float64",
         "type": "float"
        },
        {
         "name": "Electricity Use - Grid Purchase and Generated from Onsite Renewable Systems (kBtu)",
         "rawType": "float64",
         "type": "float"
        },
        {
         "name": "Electricity Use – Generated from Onsite Renewable Systems and Used Onsite (kBtu)",
         "rawType": "float64",
         "type": "float"
        },
        {
         "name": "Electricity Use – Generated from Onsite Renewable Systems (kWh)",
         "rawType": "float64",
         "type": "float"
        },
        {
         "name": "Electricity Use – Generated from Onsite Renewable Systems and Exported (kWh)",
         "rawType": "float64",
         "type": "float"
        },
        {
         "name": "Green Power - Onsite (kWh)",
         "rawType": "float64",
         "type": "float"
        },
        {
         "name": "Green Power - Offsite (kWh)",
         "rawType": "float64",
         "type": "float"
        },
        {
         "name": "Avoided Emissions - Onsite Green Power (Metric Tons CO2e)",
         "rawType": "float64",
         "type": "float"
        },
        {
         "name": "Avoided Emissions - Offsite Green Power (Metric Tons CO2e)",
         "rawType": "float64",
         "type": "float"
        },
        {
         "name": "Total GHG Emissions (Metric Tons CO2e)",
         "rawType": "float64",
         "type": "float"
        },
        {
         "name": "Direct GHG Emissions (Metric Tons CO2e)",
         "rawType": "float64",
         "type": "float"
        },
        {
         "name": "Indirect GHG Emissions (Metric Tons CO2e)",
         "rawType": "float64",
         "type": "float"
        },
        {
         "name": "National Median Total GHG Emissions (Metric Tons CO2e)",
         "rawType": "float64",
         "type": "float"
        },
        {
         "name": "Estimated Data Flag - Electricity (Grid Purchase)",
         "rawType": "object",
         "type": "string"
        },
        {
         "name": "Estimated Data Flag - Natural Gas",
         "rawType": "object",
         "type": "string"
        },
        {
         "name": "Estimated Data Flag - Fuel Oil (No. 2)",
         "rawType": "object",
         "type": "unknown"
        },
        {
         "name": "Estimated Data Flag - Fuel Oil (No. 4)",
         "rawType": "object",
         "type": "unknown"
        },
        {
         "name": "Estimated Data Flag - Fuel Oil (No. 5 and No. 6)",
         "rawType": "object",
         "type": "unknown"
        },
        {
         "name": "Estimated Data Flag - District Steam",
         "rawType": "object",
         "type": "unknown"
        },
        {
         "name": "eGRID Output Emissions Rate (kgCO2e/MBtu)",
         "rawType": "object",
         "type": "string"
        },
        {
         "name": "Net Emissions (Metric Tons CO2e)",
         "rawType": "float64",
         "type": "float"
        },
        {
         "name": "Percent of Electricity that is Green Power",
         "rawType": "object",
         "type": "string"
        },
        {
         "name": "Percent of RECs Retained",
         "rawType": "object",
         "type": "unknown"
        },
        {
         "name": "Percent of Total Electricity Generated from Onsite Renewable Systems",
         "rawType": "object",
         "type": "unknown"
        },
        {
         "name": "% Difference from National Median Water/Wastewater Site EUI",
         "rawType": "float64",
         "type": "float"
        },
        {
         "name": "CoStar Property ID",
         "rawType": "float64",
         "type": "float"
        },
        {
         "name": "LEED US Project ID",
         "rawType": "object",
         "type": "unknown"
        },
        {
         "name": "Date Property Last Modified",
         "rawType": "object",
         "type": "string"
        },
        {
         "name": "Adult Education - Gross Floor Area (ft²)",
         "rawType": "float64",
         "type": "float"
        },
        {
         "name": "Ambulatory Surgical Center - Gross Floor Area (ft²)",
         "rawType": "float64",
         "type": "float"
        },
        {
         "name": "Automobile Dealership - Gross Floor Area (ft²)",
         "rawType": "float64",
         "type": "float"
        },
        {
         "name": "Bank Branch - Gross Floor Area (ft²)",
         "rawType": "float64",
         "type": "float"
        },
        {
         "name": "Bank Branch - Number of Computers",
         "rawType": "object",
         "type": "unknown"
        },
        {
         "name": "College/University - Gross Floor Area (ft²)",
         "rawType": "float64",
         "type": "float"
        },
        {
         "name": "College/University - Number of Computers",
         "rawType": "object",
         "type": "unknown"
        },
        {
         "name": "Convenience Store with Gas Station - Gross Floor Area (ft²)",
         "rawType": "float64",
         "type": "float"
        },
        {
         "name": "Convention Center - Gross Floor Area (ft²)",
         "rawType": "float64",
         "type": "float"
        },
        {
         "name": "Courthouse - Gross Floor Area (ft²)",
         "rawType": "float64",
         "type": "float"
        },
        {
         "name": "Data Center - Gross Floor Area (ft²)",
         "rawType": "float64",
         "type": "float"
        },
        {
         "name": "Data Center - PDU Input Meter (kWh)",
         "rawType": "float64",
         "type": "float"
        },
        {
         "name": "Data Center - PDU Output Meter (kWh)",
         "rawType": "float64",
         "type": "float"
        },
        {
         "name": "Data Center - IT Equipment Input Meter (kWh)",
         "rawType": "float64",
         "type": "float"
        },
        {
         "name": "Data Center - IT Site Energy (kWh)",
         "rawType": "float64",
         "type": "float"
        },
        {
         "name": "Data Center - IT Source Energy (kBtu)",
         "rawType": "float64",
         "type": "float"
        },
        {
         "name": "Data Center - PUE",
         "rawType": "float64",
         "type": "float"
        },
        {
         "name": "Data Center - National Median PUE",
         "rawType": "object",
         "type": "unknown"
        },
        {
         "name": "Data Center - UPS Output Meter (kWh)",
         "rawType": "float64",
         "type": "float"
        },
        {
         "name": "Data Center - Cooling Equipment Redundancy",
         "rawType": "object",
         "type": "unknown"
        },
        {
         "name": "Data Center - IT Energy Configuration",
         "rawType": "object",
         "type": "unknown"
        },
        {
         "name": "Data Center - UPS System Redundancy",
         "rawType": "object",
         "type": "unknown"
        },
        {
         "name": "Distribution Center - Gross Floor Area (ft²)",
         "rawType": "float64",
         "type": "float"
        },
        {
         "name": "Enclosed Mall - Gross Floor Area (ft²)",
         "rawType": "float64",
         "type": "float"
        },
        {
         "name": "Energy/Power Station - Gross Floor Area (ft²)",
         "rawType": "float64",
         "type": "float"
        },
        {
         "name": "Fast Food Restaurant - Gross Floor Area (ft²)",
         "rawType": "float64",
         "type": "float"
        },
        {
         "name": "Financial Office - Gross Floor Area (ft²)",
         "rawType": "float64",
         "type": "float"
        },
        {
         "name": "Financial Office - Number of Computers",
         "rawType": "object",
         "type": "unknown"
        },
        {
         "name": "Financial Office - Number of Workers on Main Shift",
         "rawType": "object",
         "type": "unknown"
        },
        {
         "name": "Financial Office - Weekly Operating Hours",
         "rawType": "object",
         "type": "unknown"
        },
        {
         "name": "Fitness Center/Health Club/Gym - Gross Floor Area (ft²)",
         "rawType": "float64",
         "type": "float"
        },
        {
         "name": "Food Sales - Gross Floor Area (ft²)",
         "rawType": "float64",
         "type": "float"
        },
        {
         "name": "Food Service - Gross Floor Area (ft²)",
         "rawType": "float64",
         "type": "float"
        },
        {
         "name": "Hospital (General Medical & Surgical)- Full Time Equivalent (FTE) Workers",
         "rawType": "object",
         "type": "unknown"
        },
        {
         "name": "Hospital (General Medical & Surgical) - Full Time Equivalent (FTE) Workers Density (Number per 1,000 ft²)",
         "rawType": "float64",
         "type": "float"
        },
        {
         "name": "Hospital (General Medical & Surgical) - Gross Floor Area (ft²)",
         "rawType": "float64",
         "type": "float"
        },
        {
         "name": "Hospital (General Medical & Surgical) - Laboratory",
         "rawType": "object",
         "type": "unknown"
        },
        {
         "name": "Hospital (General Medical & Surgical) - Licensed Bed Capacity",
         "rawType": "object",
         "type": "unknown"
        },
        {
         "name": "Hospital (General Medical & Surgical) - Licensed Bed Capacity Density (Number per 1,000 ft²)",
         "rawType": "float64",
         "type": "float"
        },
        {
         "name": "Hospital (General Medical & Surgical) - Maximum Number of Floors",
         "rawType": "object",
         "type": "unknown"
        },
        {
         "name": "Hospital (General Medical & Surgical) - MRI Density (Number per 1,000 ft²)",
         "rawType": "float64",
         "type": "float"
        },
        {
         "name": "Hospital (General Medical & Surgical) - Number of MRI Machines",
         "rawType": "object",
         "type": "unknown"
        },
        {
         "name": "Hospital (General Medical & Surgical) - Number of Staffed Beds",
         "rawType": "object",
         "type": "unknown"
        },
        {
         "name": "Hospital (General Medical & Surgical) - Number of Workers on Main Shift",
         "rawType": "object",
         "type": "unknown"
        },
        {
         "name": "Hospital (General Medical & Surgical) - Number of Workers on Main Shift Density (Number per 1,000 ft²)",
         "rawType": "float64",
         "type": "float"
        },
        {
         "name": "Hospital (General Medical & Surgical) - Onsite Laundry Facility",
         "rawType": "object",
         "type": "unknown"
        },
        {
         "name": "Hospital (General Medical & Surgical) - Owned By",
         "rawType": "object",
         "type": "unknown"
        },
        {
         "name": "Hospital (General Medical & Surgical) - Percent That Can Be Cooled",
         "rawType": "object",
         "type": "unknown"
        },
        {
         "name": "Hospital (General Medical & Surgical) - Percent That Can Be Heated",
         "rawType": "object",
         "type": "unknown"
        },
        {
         "name": "Hospital (General Medical & Surgical) - Staffed Bed Density (Number per 1,000 ft²)",
         "rawType": "float64",
         "type": "float"
        },
        {
         "name": "Hospital (General Medical & Surgical) - Tertiary Care",
         "rawType": "object",
         "type": "unknown"
        },
        {
         "name": "Medical Office - Gross Floor Area (ft²)",
         "rawType": "float64",
         "type": "float"
        },
        {
         "name": "Medical Office - MRI Machine Density (Number per 1,000 ft²)",
         "rawType": "float64",
         "type": "float"
        },
        {
         "name": "Medical Office - Number of MRI Machines",
         "rawType": "object",
         "type": "unknown"
        },
        {
         "name": "Medical Office - Number of Workers on Main Shift",
         "rawType": "object",
         "type": "unknown"
        },
        {
         "name": "Medical Office - Percent That Can Be Cooled",
         "rawType": "object",
         "type": "unknown"
        },
        {
         "name": "Medical Office - Percent That Can Be Heated",
         "rawType": "object",
         "type": "unknown"
        },
        {
         "name": "Medical Office - Weekly Operating Hours",
         "rawType": "object",
         "type": "unknown"
        },
        {
         "name": "Outpatient Rehabilitation/Physical Therapy - Gross Floor Area (ft²)",
         "rawType": "float64",
         "type": "float"
        },
        {
         "name": "Urgent Care/Clinic/Other Outpatient - Gross Floor Area (ft²)",
         "rawType": "float64",
         "type": "float"
        },
        {
         "name": "K-12 School - Gross Floor Area (ft²)",
         "rawType": "float64",
         "type": "float"
        },
        {
         "name": "Laboratory - Gross Floor Area (ft²)",
         "rawType": "float64",
         "type": "float"
        },
        {
         "name": "Library - Gross Floor Area (ft²)",
         "rawType": "float64",
         "type": "float"
        },
        {
         "name": "Mailing Center/Post Office - Gross Floor Area (ft²)",
         "rawType": "float64",
         "type": "float"
        },
        {
         "name": "Manufacturing/Industrial Plant - Gross Floor Area (ft²)",
         "rawType": "float64",
         "type": "float"
        },
        {
         "name": "Movie Theater - Gross Floor Area (ft²)",
         "rawType": "float64",
         "type": "float"
        },
        {
         "name": "Multifamily Housing - Gross Floor Area (ft²)",
         "rawType": "float64",
         "type": "float"
        },
        {
         "name": "Multifamily Housing - Government Subsidized Housing",
         "rawType": "object",
         "type": "string"
        },
        {
         "name": "Multifamily Housing - Number of Bedrooms",
         "rawType": "object",
         "type": "string"
        },
        {
         "name": "Multifamily Housing - Number of Laundry Hookups in All Units",
         "rawType": "object",
         "type": "string"
        },
        {
         "name": "Multifamily Housing - Number of Laundry Hookups in Common Area(s)",
         "rawType": "object",
         "type": "string"
        },
        {
         "name": "Multifamily Housing - Total Number of Residential Living Units",
         "rawType": "object",
         "type": "string"
        },
        {
         "name": "Multifamily Housing - Percent That Can Be Cooled",
         "rawType": "object",
         "type": "string"
        },
        {
         "name": "Multifamily Housing - Percent That Can Be Heated",
         "rawType": "object",
         "type": "string"
        },
        {
         "name": "Multifamily Housing - Resident Population Type",
         "rawType": "object",
         "type": "string"
        },
        {
         "name": "Multifamily Housing - Number of Bedrooms Density (Number per 1,000 ft²)",
         "rawType": "float64",
         "type": "float"
        },
        {
         "name": "Multifamily Housing - Total Number of Residential Living Units Density (Number per 1,000 ft²)",
         "rawType": "float64",
         "type": "float"
        },
        {
         "name": "Multifamily Housing - Number of Residential Living Units in a High-Rise Building (10 or more Stories)",
         "rawType": "object",
         "type": "string"
        },
        {
         "name": "Multifamily Housing - Number of Residential Living Units in a High-Rise Building Density (Number per 1,000 ft²)",
         "rawType": "float64",
         "type": "float"
        },
        {
         "name": "Multifamily Housing - Number of Residential Living Units in a Mid-Rise Building (5-9 Stories)",
         "rawType": "object",
         "type": "string"
        },
        {
         "name": "Multifamily Housing - Number of Residential Living Units in a Mid-Rise Building Density (Number per 1,000 ft²)",
         "rawType": "float64",
         "type": "float"
        },
        {
         "name": "Other - Computer Density (Number per 1,000 ft²)",
         "rawType": "float64",
         "type": "float"
        },
        {
         "name": "Office - Gross Floor Area (ft²)",
         "rawType": "float64",
         "type": "float"
        },
        {
         "name": "Office - Number of Computers",
         "rawType": "object",
         "type": "unknown"
        },
        {
         "name": "Office - Number of Workers on Main Shift",
         "rawType": "object",
         "type": "unknown"
        },
        {
         "name": "Office - Percent That Can Be Cooled",
         "rawType": "object",
         "type": "unknown"
        },
        {
         "name": "Office - Percent That Can Be Heated",
         "rawType": "object",
         "type": "unknown"
        },
        {
         "name": "Office - Weekly Operating Hours",
         "rawType": "object",
         "type": "unknown"
        },
        {
         "name": "Office - Worker Density (Number per 1,000 ft²)",
         "rawType": "float64",
         "type": "float"
        },
        {
         "name": "Museum - Gross Floor Area (ft²)",
         "rawType": "float64",
         "type": "float"
        },
        {
         "name": "Non-Refrigerated Warehouse - Gross Floor Area (ft²)",
         "rawType": "float64",
         "type": "float"
        },
        {
         "name": "Other - Gross Floor Area (ft²)",
         "rawType": "float64",
         "type": "float"
        },
        {
         "name": "Other - Weekly Operating Hours",
         "rawType": "object",
         "type": "unknown"
        },
        {
         "name": "Other - Number of Computers",
         "rawType": "object",
         "type": "unknown"
        },
        {
         "name": "Other - Number of Workers on Main Shift",
         "rawType": "object",
         "type": "unknown"
        },
        {
         "name": "Performing Arts - Gross Floor Area (ft²)",
         "rawType": "float64",
         "type": "float"
        },
        {
         "name": "Pre-school/Daycare - Gross Floor Area (ft²)",
         "rawType": "float64",
         "type": "float"
        },
        {
         "name": "Supermarket/Grocery - Number of Open or Closed Refrigeration/Freezer Units",
         "rawType": "object",
         "type": "unknown"
        },
        {
         "name": "Refrigerated Warehouse - Gross Floor Area (ft²)",
         "rawType": "float64",
         "type": "float"
        },
        {
         "name": "Repair Services (Vehicle, Shoe, Locksmith, etc.) - Gross Floor Area (ft²)",
         "rawType": "float64",
         "type": "float"
        },
        {
         "name": "Residence Hall/Dormitory - Gross Floor Area (ft²)",
         "rawType": "float64",
         "type": "float"
        },
        {
         "name": "Restaurant - Gross Floor Area (ft²)",
         "rawType": "float64",
         "type": "float"
        },
        {
         "name": "Self-Storage Facility - Gross Floor Area (ft²)",
         "rawType": "float64",
         "type": "float"
        },
        {
         "name": "Senior Care Community - Gross Floor Area (ft²)",
         "rawType": "float64",
         "type": "float"
        },
        {
         "name": "Social/Meeting Hall - Gross Floor Area (ft²)",
         "rawType": "float64",
         "type": "float"
        },
        {
         "name": "Supermarket/Grocery - Gross Floor Area (ft²)",
         "rawType": "float64",
         "type": "float"
        },
        {
         "name": "Wholesale Club/Supercenter- Gross Floor Area (ft²)",
         "rawType": "float64",
         "type": "float"
        },
        {
         "name": "Worship Facility - Gross Floor Area (ft²)",
         "rawType": "float64",
         "type": "float"
        },
        {
         "name": "Retail Store - Gross Floor Area (ft²)",
         "rawType": "float64",
         "type": "float"
        },
        {
         "name": "Restaurant - Worker Density (Number per 1,000 ft²)",
         "rawType": "float64",
         "type": "float"
        },
        {
         "name": "Restaurant - Weekly Operating Hours",
         "rawType": "object",
         "type": "unknown"
        },
        {
         "name": "Retail Store - Walk-in Refrigeration Density (Number per 1,000 ft²)",
         "rawType": "float64",
         "type": "float"
        },
        {
         "name": "Retail Store - Percent That Can Be Cooled",
         "rawType": "object",
         "type": "unknown"
        },
        {
         "name": "Retail Store - Open or Closed Refrigeration Density (Number per 1,000 ft²)",
         "rawType": "float64",
         "type": "float"
        },
        {
         "name": "Retail Store - Number of Walk-in Refrigeration/Freezer Units",
         "rawType": "object",
         "type": "unknown"
        },
        {
         "name": "Retail Store - Number of Open or Closed Refrigeration/Freezer Units",
         "rawType": "object",
         "type": "unknown"
        },
        {
         "name": "Parking - Gross Floor Area (ft²)",
         "rawType": "float64",
         "type": "float"
        },
        {
         "name": "Parking - Open Parking Lot Size (ft²)",
         "rawType": "float64",
         "type": "float"
        },
        {
         "name": "Hotel - Gross Floor Area (ft²)",
         "rawType": "float64",
         "type": "float"
        },
        {
         "name": "Hotel - Gym/fitness  Center Floor Area (ft²)",
         "rawType": "float64",
         "type": "float"
        },
        {
         "name": "Hotel - Room Density (Number per 1,000 ft²)",
         "rawType": "float64",
         "type": "float"
        },
        {
         "name": "Hotel - Worker Density (Number per 1,000 ft²)",
         "rawType": "float64",
         "type": "float"
        },
        {
         "name": "Hotel - Percent That Can Be Cooled",
         "rawType": "object",
         "type": "unknown"
        },
        {
         "name": "Estimated Data Flag -  Municipally Supplied Reclaimed Water – Outdoor Use",
         "rawType": "object",
         "type": "unknown"
        },
        {
         "name": "Alert - Data Center does not have an IT Meter",
         "rawType": "object",
         "type": "string"
        },
        {
         "name": "Alert - Gross Floor Area is 0 ft2",
         "rawType": "object",
         "type": "string"
        },
        {
         "name": "Alert - Individual monthly meter entry is more than 65 days long",
         "rawType": "object",
         "type": "string"
        },
        {
         "name": "Alert - Meter has overlaps",
         "rawType": "object",
         "type": "string"
        },
        {
         "name": "Alert - Meter has gaps",
         "rawType": "object",
         "type": "string"
        },
        {
         "name": "Alert - Meter has less than 12 full calendar months of data",
         "rawType": "object",
         "type": "string"
        },
        {
         "name": "Alert - No meters are associated with this property",
         "rawType": "object",
         "type": "string"
        },
        {
         "name": "Alert - Property has no uses",
         "rawType": "object",
         "type": "string"
        },
        {
         "name": "Data Quality Checker Run?",
         "rawType": "object",
         "type": "string"
        },
        {
         "name": "Data Quality Checker - Date Run",
         "rawType": "object",
         "type": "unknown"
        },
        {
         "name": "Default Values",
         "rawType": "object",
         "type": "string"
        },
        {
         "name": "Estimated Values - Energy",
         "rawType": "object",
         "type": "string"
        },
        {
         "name": "Temporary Values",
         "rawType": "object",
         "type": "string"
        },
        {
         "name": "Estimated Values - Water",
         "rawType": "object",
         "type": "string"
        },
        {
         "name": "Property GFA - Self-Reported (ft²)",
         "rawType": "float64",
         "type": "float"
        },
        {
         "name": "Property GFA - Calculated (Buildings and Parking) (ft²)",
         "rawType": "float64",
         "type": "float"
        },
        {
         "name": "Property GFA - Calculated (Buildings) (ft²)",
         "rawType": "float64",
         "type": "float"
        },
        {
         "name": "Property GFA - Calculated (Parking) (ft²)",
         "rawType": "float64",
         "type": "float"
        },
        {
         "name": "Water Current Date",
         "rawType": "object",
         "type": "string"
        },
        {
         "name": "Water Use (All Water Sources) (kgal)",
         "rawType": "float64",
         "type": "float"
        },
        {
         "name": "Indoor Water Use (All Water Sources) (kgal)",
         "rawType": "float64",
         "type": "float"
        },
        {
         "name": "Indoor Water Use Intensity (All Water Sources) (gal/ft²)",
         "rawType": "float64",
         "type": "float"
        },
        {
         "name": "Outdoor Water Use (All Water Sources) (kgal)",
         "rawType": "float64",
         "type": "float"
        },
        {
         "name": "Municipally Supplied Potable Water - Mixed Indoor/Outdoor Use (kgal)",
         "rawType": "float64",
         "type": "float"
        },
        {
         "name": "Municipally Supplied Potable Water - Indoor Use (kgal)",
         "rawType": "float64",
         "type": "float"
        },
        {
         "name": "Water Use Intensity (All Water Sources) (gal/ft²)",
         "rawType": "float64",
         "type": "float"
        },
        {
         "name": "Municipally Supplied Potable Water - Outdoor Use (kgal)",
         "rawType": "float64",
         "type": "float"
        },
        {
         "name": "Third Party Certification Date Anticipated",
         "rawType": "object",
         "type": "unknown"
        },
        {
         "name": "Third Party Certification",
         "rawType": "object",
         "type": "unknown"
        },
        {
         "name": "Third Party Certification Date Achieved",
         "rawType": "object",
         "type": "unknown"
        },
        {
         "name": "Supermarket/Grocery - Open or Closed Refrigeration Density (Number per 1,000 ft²)",
         "rawType": "float64",
         "type": "float"
        },
        {
         "name": "Convenience Store With Gas Station - Number of Open or Closed Refrigeration/Freezer Units",
         "rawType": "float64",
         "type": "float"
        },
        {
         "name": "Convenience Store With Gas Station - Open or Closed Refrigeration Density (Number per 1,000 ft²)",
         "rawType": "float64",
         "type": "float"
        },
        {
         "name": "Financial Office - Computer Density (Number per 1,000 ft²)",
         "rawType": "float64",
         "type": "float"
        },
        {
         "name": "Senior Care Community - Living Unit Density (Number per 1,000 ft²)",
         "rawType": "float64",
         "type": "float"
        },
        {
         "name": "Source EUI (kBtu/ft²)",
         "rawType": "float64",
         "type": "float"
        },
        {
         "name": "% Difference from National Median Water/Wastewater Source  EUI",
         "rawType": "float64",
         "type": "float"
        },
        {
         "name": "Source EUI - Adjusted to Current Year (kBtu/ft²)",
         "rawType": "float64",
         "type": "float"
        },
        {
         "name": "Office - Computer Density (Number per 1,000 ft²)",
         "rawType": "float64",
         "type": "float"
        },
        {
         "name": "Generation Date",
         "rawType": "object",
         "type": "string"
        },
        {
         "name": "Release Date",
         "rawType": "object",
         "type": "string"
        },
        {
         "name": "Borough",
         "rawType": "object",
         "type": "string"
        },
        {
         "name": "Latitude",
         "rawType": "float64",
         "type": "float"
        },
        {
         "name": "Longitude",
         "rawType": "float64",
         "type": "float"
        },
        {
         "name": "Community Board",
         "rawType": "float64",
         "type": "float"
        },
        {
         "name": "Council District",
         "rawType": "float64",
         "type": "float"
        },
        {
         "name": "Census Tract",
         "rawType": "float64",
         "type": "float"
        },
        {
         "name": "NTA",
         "rawType": "object",
         "type": "string"
        }
       ],
       "conversionMethod": "pd.DataFrame",
       "ref": "ac4f812c-5018-4e3a-a1f4-b6606018f367",
       "rows": [
        [
         "1635",
         "4414323",
         "234 Skillman",
         "Not Applicable: Standalone Property",
         "Not Applicable: Standalone Property",
         "12/31/2016",
         "3028937502",
         "3390250 , 3338313",
         null,
         "234 Skillman avenue",
         null,
         "Bronx",
         null,
         "11211",
         "Multifamily Housing",
         "Multifamily Housing",
         "Fannie Mae Industry Survey - Multifamily",
         "Multifamily Housing",
         "Multifamily Housing",
         "56900.0",
         null,
         null,
         null,
         null,
         "2004",
         "1",
         "90",
         "Whole Building",
         null,
         "1.0",
         "50.0",
         null,
         null,
         "No",
         "869265.0",
         "939329.0",
         "127.5",
         "681428.4",
         "49461176956.0",
         "53447818655.0",
         "51938381644.0",
         "7257388.4",
         "9.9",
         "9393.0",
         "986366.0",
         "133.9",
         "681428.5",
         "51938381644.0",
         "56124226095.0",
         "7620866.4",
         null,
         null,
         null,
         null,
         null,
         null,
         null,
         null,
         null,
         null,
         "49459193300.0",
         "534458968.8",
         "1983655.6",
         "563239.6",
         "1983655.6",
         null,
         null,
         null,
         null,
         "0.0",
         null,
         "0.0",
         "2627199.1",
         "2627015.0",
         "184.1",
         "385.5",
         "No",
         "No",
         null,
         null,
         null,
         null,
         "92.8",
         "2627199.1",
         "0",
         null,
         null,
         null,
         null,
         null,
         "08/07/2016 09:13 PM EDT",
         null,
         null,
         null,
         null,
         null,
         null,
         null,
         null,
         null,
         null,
         null,
         null,
         null,
         null,
         null,
         null,
         null,
         null,
         null,
         null,
         null,
         null,
         null,
         null,
         null,
         null,
         null,
         null,
         null,
         null,
         null,
         null,
         null,
         null,
         null,
         null,
         null,
         null,
         null,
         null,
         null,
         null,
         null,
         null,
         null,
         null,
         null,
         null,
         null,
         null,
         null,
         null,
         null,
         null,
         null,
         null,
         null,
         null,
         null,
         null,
         null,
         null,
         null,
         null,
         null,
         null,
         "56900.0",
         "No",
         "119",
         "0",
         "22",
         "62",
         "90",
         "90",
         "No specific resident population",
         "2.09139",
         "1.08963",
         "0",
         "0.0",
         "8",
         "0.1406",
         null,
         null,
         null,
         null,
         null,
         null,
         null,
         null,
         null,
         null,
         null,
         null,
         null,
         null,
         null,
         null,
         null,
         null,
         null,
         null,
         null,
         null,
         null,
         null,
         null,
         null,
         null,
         null,
         null,
         null,
         null,
         null,
         null,
         null,
         null,
         null,
         null,
         null,
         null,
         null,
         null,
         null,
         null,
         "Ok",
         "Ok",
         "Ok",
         "Ok",
         "Ok",
         "Ok",
         "Ok",
         "Ok",
         "No",
         null,
         "No",
         "No",
         "No",
         "No",
         "56900.0",
         "56900.0",
         "56900.0",
         null,
         "12/31/2016",
         "2547.9",
         "2547.9",
         "44.78",
         null,
         null,
         "2547.9",
         "44.78",
         null,
         null,
         null,
         null,
         null,
         null,
         null,
         null,
         null,
         "912801.1",
         null,
         "912801.1",
         null,
         "05/01/2017 11:33:49 PM",
         "05/01/2017 11:34:14 PM",
         "BROOKLYN",
         "40.716233",
         "-73.94141",
         "301.0",
         "34.0",
         "477.0",
         "East Williamsburg"
        ]
       ],
       "shape": {
        "columns": 262,
        "rows": 1
       }
      },
      "text/html": [
       "<div>\n",
       "<style scoped>\n",
       "    .dataframe tbody tr th:only-of-type {\n",
       "        vertical-align: middle;\n",
       "    }\n",
       "\n",
       "    .dataframe tbody tr th {\n",
       "        vertical-align: top;\n",
       "    }\n",
       "\n",
       "    .dataframe thead th {\n",
       "        text-align: right;\n",
       "    }\n",
       "</style>\n",
       "<table border=\"1\" class=\"dataframe\">\n",
       "  <thead>\n",
       "    <tr style=\"text-align: right;\">\n",
       "      <th></th>\n",
       "      <th>Property Id</th>\n",
       "      <th>Property Name</th>\n",
       "      <th>Parent Property Id</th>\n",
       "      <th>Parent Property Name</th>\n",
       "      <th>Year Ending</th>\n",
       "      <th>NYC Borough, Block and Lot (BBL)</th>\n",
       "      <th>NYC Building Identification Number (BIN)</th>\n",
       "      <th>Count of Buildings</th>\n",
       "      <th>Address 1</th>\n",
       "      <th>Address 2</th>\n",
       "      <th>City</th>\n",
       "      <th>County</th>\n",
       "      <th>Postcode</th>\n",
       "      <th>Primary Property Type - Self Selected</th>\n",
       "      <th>Primary Property Type - Portfolio Manager-Calculated</th>\n",
       "      <th>National Median Reference Property Type</th>\n",
       "      <th>List of All Property Use Types at Property</th>\n",
       "      <th>Largest Property Use Type</th>\n",
       "      <th>Largest Property Use Type - Gross Floor Area (ft²)</th>\n",
       "      <th>2nd Largest Property Use Type</th>\n",
       "      <th>2nd Largest Property Use - Gross Floor Area (ft²)</th>\n",
       "      <th>3rd Largest Property Use Type</th>\n",
       "      <th>3rd Largest Property Use Type - Gross Floor Area (ft²)</th>\n",
       "      <th>Year Built</th>\n",
       "      <th>Number of Buildings</th>\n",
       "      <th>Occupancy</th>\n",
       "      <th>Metered Areas (Energy)</th>\n",
       "      <th>Metered Areas  (Water)</th>\n",
       "      <th>score</th>\n",
       "      <th>National Median ENERGY STAR Score</th>\n",
       "      <th>...</th>\n",
       "      <th>Water Current Date</th>\n",
       "      <th>Water Use (All Water Sources) (kgal)</th>\n",
       "      <th>Indoor Water Use (All Water Sources) (kgal)</th>\n",
       "      <th>Indoor Water Use Intensity (All Water Sources) (gal/ft²)</th>\n",
       "      <th>Outdoor Water Use (All Water Sources) (kgal)</th>\n",
       "      <th>Municipally Supplied Potable Water - Mixed Indoor/Outdoor Use (kgal)</th>\n",
       "      <th>Municipally Supplied Potable Water - Indoor Use (kgal)</th>\n",
       "      <th>Water Use Intensity (All Water Sources) (gal/ft²)</th>\n",
       "      <th>Municipally Supplied Potable Water - Outdoor Use (kgal)</th>\n",
       "      <th>Third Party Certification Date Anticipated</th>\n",
       "      <th>Third Party Certification</th>\n",
       "      <th>Third Party Certification Date Achieved</th>\n",
       "      <th>Supermarket/Grocery - Open or Closed Refrigeration Density (Number per 1,000 ft²)</th>\n",
       "      <th>Convenience Store With Gas Station - Number of Open or Closed Refrigeration/Freezer Units</th>\n",
       "      <th>Convenience Store With Gas Station - Open or Closed Refrigeration Density (Number per 1,000 ft²)</th>\n",
       "      <th>Financial Office - Computer Density (Number per 1,000 ft²)</th>\n",
       "      <th>Senior Care Community - Living Unit Density (Number per 1,000 ft²)</th>\n",
       "      <th>Source EUI (kBtu/ft²)</th>\n",
       "      <th>% Difference from National Median Water/Wastewater Source  EUI</th>\n",
       "      <th>Source EUI - Adjusted to Current Year (kBtu/ft²)</th>\n",
       "      <th>Office - Computer Density (Number per 1,000 ft²)</th>\n",
       "      <th>Generation Date</th>\n",
       "      <th>Release Date</th>\n",
       "      <th>Borough</th>\n",
       "      <th>Latitude</th>\n",
       "      <th>Longitude</th>\n",
       "      <th>Community Board</th>\n",
       "      <th>Council District</th>\n",
       "      <th>Census Tract</th>\n",
       "      <th>NTA</th>\n",
       "    </tr>\n",
       "  </thead>\n",
       "  <tbody>\n",
       "    <tr>\n",
       "      <th>1635</th>\n",
       "      <td>4414323</td>\n",
       "      <td>234 Skillman</td>\n",
       "      <td>Not Applicable: Standalone Property</td>\n",
       "      <td>Not Applicable: Standalone Property</td>\n",
       "      <td>12/31/2016</td>\n",
       "      <td>3028937502</td>\n",
       "      <td>3390250 , 3338313</td>\n",
       "      <td>NaN</td>\n",
       "      <td>234 Skillman avenue</td>\n",
       "      <td>NaN</td>\n",
       "      <td>Bronx</td>\n",
       "      <td>NaN</td>\n",
       "      <td>11211</td>\n",
       "      <td>Multifamily Housing</td>\n",
       "      <td>Multifamily Housing</td>\n",
       "      <td>Fannie Mae Industry Survey - Multifamily</td>\n",
       "      <td>Multifamily Housing</td>\n",
       "      <td>Multifamily Housing</td>\n",
       "      <td>56900.0</td>\n",
       "      <td>NaN</td>\n",
       "      <td>NaN</td>\n",
       "      <td>NaN</td>\n",
       "      <td>NaN</td>\n",
       "      <td>2004</td>\n",
       "      <td>1</td>\n",
       "      <td>90</td>\n",
       "      <td>Whole Building</td>\n",
       "      <td>NaN</td>\n",
       "      <td>1.0</td>\n",
       "      <td>50.0</td>\n",
       "      <td>...</td>\n",
       "      <td>12/31/2016</td>\n",
       "      <td>2547.9</td>\n",
       "      <td>2547.9</td>\n",
       "      <td>44.78</td>\n",
       "      <td>NaN</td>\n",
       "      <td>NaN</td>\n",
       "      <td>2547.9</td>\n",
       "      <td>44.78</td>\n",
       "      <td>NaN</td>\n",
       "      <td>NaN</td>\n",
       "      <td>NaN</td>\n",
       "      <td>NaN</td>\n",
       "      <td>NaN</td>\n",
       "      <td>NaN</td>\n",
       "      <td>NaN</td>\n",
       "      <td>NaN</td>\n",
       "      <td>NaN</td>\n",
       "      <td>912801.1</td>\n",
       "      <td>NaN</td>\n",
       "      <td>912801.1</td>\n",
       "      <td>NaN</td>\n",
       "      <td>05/01/2017 11:33:49 PM</td>\n",
       "      <td>05/01/2017 11:34:14 PM</td>\n",
       "      <td>BROOKLYN</td>\n",
       "      <td>40.716233</td>\n",
       "      <td>-73.94141</td>\n",
       "      <td>301.0</td>\n",
       "      <td>34.0</td>\n",
       "      <td>477.0</td>\n",
       "      <td>East Williamsburg</td>\n",
       "    </tr>\n",
       "  </tbody>\n",
       "</table>\n",
       "<p>1 rows × 262 columns</p>\n",
       "</div>"
      ],
      "text/plain": [
       "      Property Id Property Name                   Parent Property Id  \\\n",
       "1635      4414323  234 Skillman  Not Applicable: Standalone Property   \n",
       "\n",
       "                     Parent Property Name Year Ending  \\\n",
       "1635  Not Applicable: Standalone Property  12/31/2016   \n",
       "\n",
       "     NYC Borough, Block and Lot (BBL)  \\\n",
       "1635                       3028937502   \n",
       "\n",
       "     NYC Building Identification Number (BIN)  Count of Buildings  \\\n",
       "1635                        3390250 , 3338313                 NaN   \n",
       "\n",
       "                Address 1 Address 2   City County Postcode  \\\n",
       "1635  234 Skillman avenue       NaN  Bronx    NaN    11211   \n",
       "\n",
       "     Primary Property Type - Self Selected  \\\n",
       "1635                   Multifamily Housing   \n",
       "\n",
       "     Primary Property Type - Portfolio Manager-Calculated  \\\n",
       "1635                                Multifamily Housing     \n",
       "\n",
       "       National Median Reference Property Type  \\\n",
       "1635  Fannie Mae Industry Survey - Multifamily   \n",
       "\n",
       "     List of All Property Use Types at Property Largest Property Use Type  \\\n",
       "1635                        Multifamily Housing       Multifamily Housing   \n",
       "\n",
       "      Largest Property Use Type - Gross Floor Area (ft²)  \\\n",
       "1635                                            56900.0    \n",
       "\n",
       "     2nd Largest Property Use Type  \\\n",
       "1635                           NaN   \n",
       "\n",
       "      2nd Largest Property Use - Gross Floor Area (ft²)  \\\n",
       "1635                                                NaN   \n",
       "\n",
       "     3rd Largest Property Use Type  \\\n",
       "1635                           NaN   \n",
       "\n",
       "      3rd Largest Property Use Type - Gross Floor Area (ft²)  Year Built  \\\n",
       "1635                                                NaN             2004   \n",
       "\n",
       "      Number of Buildings  Occupancy Metered Areas (Energy)  \\\n",
       "1635                    1         90         Whole Building   \n",
       "\n",
       "     Metered Areas  (Water)  score  National Median ENERGY STAR Score  ...  \\\n",
       "1635                    NaN    1.0                               50.0  ...   \n",
       "\n",
       "     Water Current Date Water Use (All Water Sources) (kgal)  \\\n",
       "1635         12/31/2016                               2547.9   \n",
       "\n",
       "     Indoor Water Use (All Water Sources) (kgal)  \\\n",
       "1635                                      2547.9   \n",
       "\n",
       "      Indoor Water Use Intensity (All Water Sources) (gal/ft²)  \\\n",
       "1635                                              44.78          \n",
       "\n",
       "      Outdoor Water Use (All Water Sources) (kgal)  \\\n",
       "1635                                           NaN   \n",
       "\n",
       "      Municipally Supplied Potable Water - Mixed Indoor/Outdoor Use (kgal)  \\\n",
       "1635                                                NaN                      \n",
       "\n",
       "     Municipally Supplied Potable Water - Indoor Use (kgal)  \\\n",
       "1635                                             2547.9       \n",
       "\n",
       "      Water Use Intensity (All Water Sources) (gal/ft²)  \\\n",
       "1635                                              44.78   \n",
       "\n",
       "      Municipally Supplied Potable Water - Outdoor Use (kgal)  \\\n",
       "1635                                                NaN         \n",
       "\n",
       "      Third Party Certification Date Anticipated  Third Party Certification  \\\n",
       "1635                                         NaN                        NaN   \n",
       "\n",
       "      Third Party Certification Date Achieved  \\\n",
       "1635                                      NaN   \n",
       "\n",
       "      Supermarket/Grocery - Open or Closed Refrigeration Density (Number per 1,000 ft²)  \\\n",
       "1635                                                NaN                                   \n",
       "\n",
       "      Convenience Store With Gas Station - Number of Open or Closed Refrigeration/Freezer Units  \\\n",
       "1635                                                NaN                                           \n",
       "\n",
       "      Convenience Store With Gas Station - Open or Closed Refrigeration Density (Number per 1,000 ft²)  \\\n",
       "1635                                                NaN                                                  \n",
       "\n",
       "     Financial Office - Computer Density (Number per 1,000 ft²)  \\\n",
       "1635                                                NaN           \n",
       "\n",
       "      Senior Care Community - Living Unit Density (Number per 1,000 ft²)  \\\n",
       "1635                                                NaN                    \n",
       "\n",
       "      Source EUI (kBtu/ft²)  \\\n",
       "1635               912801.1   \n",
       "\n",
       "      % Difference from National Median Water/Wastewater Source  EUI  \\\n",
       "1635                                                NaN                \n",
       "\n",
       "      Source EUI - Adjusted to Current Year (kBtu/ft²)  \\\n",
       "1635                                          912801.1   \n",
       "\n",
       "      Office - Computer Density (Number per 1,000 ft²)  \\\n",
       "1635                                               NaN   \n",
       "\n",
       "             Generation Date            Release Date   Borough   Latitude  \\\n",
       "1635  05/01/2017 11:33:49 PM  05/01/2017 11:34:14 PM  BROOKLYN  40.716233   \n",
       "\n",
       "      Longitude  Community Board  Council District  Census Tract  \\\n",
       "1635  -73.94141            301.0              34.0         477.0   \n",
       "\n",
       "                    NTA  \n",
       "1635  East Williamsburg  \n",
       "\n",
       "[1 rows x 262 columns]"
      ]
     },
     "execution_count": 45,
     "metadata": {},
     "output_type": "execute_result"
    }
   ],
   "source": [
    "df.loc[df['Site EUI (kBtu/ft²)'] == 869265, :]"
   ]
  },
  {
   "cell_type": "code",
   "execution_count": 46,
   "id": "231cbd0d",
   "metadata": {},
   "outputs": [],
   "source": [
    "first_quartile = df['Site EUI (kBtu/ft²)'].describe()['25%']\n",
    "third_quartile = df['Site EUI (kBtu/ft²)'].describe()['75%']\n",
    "\n",
    "iqr = third_quartile - first_quartile\n",
    "\n",
    "df = df[(df['Site EUI (kBtu/ft²)'] > (first_quartile - 3 * iqr)) &\n",
    "            (df['Site EUI (kBtu/ft²)'] < (third_quartile + 3 * iqr))]"
   ]
  },
  {
   "cell_type": "code",
   "execution_count": 48,
   "id": "9e69116a",
   "metadata": {},
   "outputs": [
    {
     "data": {
      "image/png": "[encoded data removed]",
      "text/plain": [
       "<Figure size 800x800 with 1 Axes>"
      ]
     },
     "metadata": {},
     "output_type": "display_data"
    }
   ],
   "source": [
    "figsize(8, 8)\n",
    "plt.hist(df['Site EUI (kBtu/ft²)'].dropna(), bins = 20, edgecolor = 'black')\n",
    "plt.xlabel('Site EUI')\n",
    "plt.ylabel('Count')\n",
    "plt.title('Site EUI Distribution');"
   ]
  },
  {
   "cell_type": "markdown",
   "id": "2c6c8a8d",
   "metadata": {},
   "source": [
    "## Looking for Relationships"
   ]
  }
 ],
 "metadata": {
  "kernelspec": {
   "display_name": "tf-env",
   "language": "python",
   "name": "python3"
  },
  "language_info": {
   "codemirror_mode": {
    "name": "ipython",
    "version": 3
   },
   "file_extension": ".py",
   "mimetype": "text/x-python",
   "name": "python",
   "nbconvert_exporter": "python",
   "pygments_lexer": "ipython3",
   "version": "3.8.20"
  }
 },
 "nbformat": 4,
 "nbformat_minor": 5
}
